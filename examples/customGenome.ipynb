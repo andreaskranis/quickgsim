{
 "cells": [
  {
   "cell_type": "markdown",
   "id": "df8291f5",
   "metadata": {},
   "source": [
    "## SUMMARY\n",
    "\n",
    "The aim is to demonstrate how to extend the base class Genome to have different behaviour for recombination. Below two examples are considered:\n",
    "\n",
    "1. Having more intense recombination in telomeres\n",
    "2. Using a bionomial distribution to get the number of cross-overs instead of the default poisson (the results houdl be similar)"
   ]
  },
  {
   "cell_type": "code",
   "execution_count": 2,
   "id": "3b081e67",
   "metadata": {},
   "outputs": [],
   "source": [
    "## for local developement\n",
    "%load_ext autoreload\n",
    "%autoreload 2"
   ]
  },
  {
   "cell_type": "code",
   "execution_count": 3,
   "id": "565d689d",
   "metadata": {},
   "outputs": [],
   "source": [
    "%matplotlib inline\n",
    "import matplotlib\n",
    "import numpy as np\n",
    "import matplotlib.pyplot as plt"
   ]
  },
  {
   "cell_type": "code",
   "execution_count": 32,
   "id": "873d0361",
   "metadata": {},
   "outputs": [],
   "source": [
    "import quickgsim as gsim"
   ]
  },
  {
   "cell_type": "markdown",
   "id": "a70079cb",
   "metadata": {},
   "source": [
    "## 0. Setting the instruction and inspection functionality"
   ]
  },
  {
   "cell_type": "code",
   "execution_count": 14,
   "id": "13ccb457",
   "metadata": {},
   "outputs": [],
   "source": [
    "## Create two chromosomes, use the same instructions for all scenarios\n",
    "instructions = {1:[20,1_000_000,2],2:[30,2_000_000,3]}"
   ]
  },
  {
   "cell_type": "code",
   "execution_count": 37,
   "id": "c6a3c6d8",
   "metadata": {},
   "outputs": [],
   "source": [
    "def do_recombs(g,chrom_name=1,iters=5000):\n",
    "    results = np.zeros(len(g.chroms[chrom_name].xover_p))\n",
    "    for i in range(iters):\n",
    "        for rec in g.place_recomb(g.chroms[chrom_name],g.recomb_events(chrom_name,mod_len_chrom=0.2)):\n",
    "            results[rec-1] += 1\n",
    "    return results\n",
    "    \n",
    "\n",
    "def viz_recomb(g,chrom_name=1,iters=5000):\n",
    "    print(\"> The probabilties for cross-over:\")\n",
    "    print(g.chroms[chrom_name].xover_p)\n",
    "    results = do_recombs(g,chrom_name,iters)\n",
    "    print(\">Crossovers:\")\n",
    "    print(results)\n",
    "    plt.bar(range(len(g.chroms[chrom_name].xover_p)),results)\n"
   ]
  },
  {
   "cell_type": "markdown",
   "id": "f0eb3b21",
   "metadata": {},
   "source": [
    "## 1. Compare the base Genome with a Custom one\n",
    "\n",
    "By using equidistant_genome() with the instructions, all markers are placed in equal mapping distances across chromosomes. This implies that the probability for a cross-over is the same between all markers in the genome (see the output of `genome.chroms[1].xover_p`). \n",
    "\n",
    "Alternatively, a Cusom Genome is defined by inheriting from the baseclass. The difference is that the new class modifies *self.chroms[c].xover_p* for all chromosomes *c* in a user-defined manner. In the example for this notebook, crossovers at the telomeres (defined as the first 30% of chromosome or the last 20%) are 4 times more likely than in regions between 30% to 80% of the chromosome. This is shown in the two histograms at the end of the section.\n",
    "\n",
    "**NOTE**: The adjustment of the modified recombination profile is done explicitly AFTER adding all the markers by calling  `CustomGenome.adjust_recomb_profile()`\n"
   ]
  },
  {
   "cell_type": "code",
   "execution_count": 7,
   "id": "03d042bf",
   "metadata": {},
   "outputs": [
    {
     "name": "stdout",
     "output_type": "stream",
     "text": [
      "will now add 20 variants in chromosome 1 [len in bp:1000000/morgans:2.1] equally spaced every 52631 bp, ie every 11.05 centiMorgans\n",
      " chrom 1 has 20 variants\n",
      "will now add 30 variants in chromosome 2 [len in bp:2000000/morgans:3] equally spaced every 68965 bp, ie every 10.34 centiMorgans\n",
      " chrom 2 has 30 variants\n"
     ]
    }
   ],
   "source": [
    "## Standard Genome using \n",
    "genome = gsim.equidistant_genome(instructions,rs=gsim.randomise(seed=42))"
   ]
  },
  {
   "cell_type": "code",
   "execution_count": 8,
   "id": "3d1a9929",
   "metadata": {},
   "outputs": [
    {
     "data": {
      "text/plain": [
       "[Variant(chrom=1, pos=0.0, cm_pos=0.0, add_effects={}),\n",
       " Variant(chrom=1, pos=52631.57894736842, cm_pos=11.05263157894737, add_effects={}),\n",
       " Variant(chrom=1, pos=105263.15789473684, cm_pos=22.10526315789474, add_effects={}),\n",
       " Variant(chrom=1, pos=157894.73684210525, cm_pos=33.15789473684211, add_effects={}),\n",
       " Variant(chrom=1, pos=210526.31578947368, cm_pos=44.21052631578948, add_effects={}),\n",
       " Variant(chrom=1, pos=263157.8947368421, cm_pos=55.26315789473685, add_effects={}),\n",
       " Variant(chrom=1, pos=315789.4736842105, cm_pos=66.31578947368422, add_effects={}),\n",
       " Variant(chrom=1, pos=368421.05263157893, cm_pos=77.36842105263159, add_effects={}),\n",
       " Variant(chrom=1, pos=421052.63157894736, cm_pos=88.42105263157896, add_effects={}),\n",
       " Variant(chrom=1, pos=473684.2105263158, cm_pos=99.47368421052633, add_effects={}),\n",
       " Variant(chrom=1, pos=526315.7894736842, cm_pos=110.5263157894737, add_effects={}),\n",
       " Variant(chrom=1, pos=578947.3684210526, cm_pos=121.57894736842105, add_effects={}),\n",
       " Variant(chrom=1, pos=631578.947368421, cm_pos=132.63157894736844, add_effects={}),\n",
       " Variant(chrom=1, pos=684210.5263157894, cm_pos=143.6842105263158, add_effects={}),\n",
       " Variant(chrom=1, pos=736842.1052631579, cm_pos=154.73684210526318, add_effects={}),\n",
       " Variant(chrom=1, pos=789473.6842105263, cm_pos=165.78947368421052, add_effects={}),\n",
       " Variant(chrom=1, pos=842105.2631578947, cm_pos=176.84210526315792, add_effects={}),\n",
       " Variant(chrom=1, pos=894736.8421052631, cm_pos=187.8947368421053, add_effects={}),\n",
       " Variant(chrom=1, pos=947368.4210526316, cm_pos=198.94736842105266, add_effects={}),\n",
       " Variant(chrom=1, pos=1000000.0, cm_pos=210.0, add_effects={})]"
      ]
     },
     "execution_count": 8,
     "metadata": {},
     "output_type": "execute_result"
    }
   ],
   "source": [
    "## print all the variants in chromosome 1\n",
    "genome.chroms[1].variants"
   ]
  },
  {
   "cell_type": "code",
   "execution_count": 9,
   "id": "76d055b3",
   "metadata": {},
   "outputs": [
    {
     "data": {
      "text/plain": [
       "array([0.05555556, 0.05555556, 0.05555556, 0.05555556, 0.05555556,\n",
       "       0.05555556, 0.05555556, 0.05555556, 0.05555556, 0.05555556,\n",
       "       0.05555556, 0.05555556, 0.05555556, 0.05555556, 0.05555556,\n",
       "       0.05555556, 0.05555556, 0.05555556])"
      ]
     },
     "execution_count": 9,
     "metadata": {},
     "output_type": "execute_result"
    }
   ],
   "source": [
    "## show that the probabilties for crossover are the same between all markers (after all, it is an equidistant genome)\n",
    "genome.chroms[1].xover_p"
   ]
  },
  {
   "cell_type": "code",
   "execution_count": 13,
   "id": "f77ad10a",
   "metadata": {},
   "outputs": [
    {
     "data": {
      "text/plain": [
       "array([ 1,  3,  4,  9, 13])"
      ]
     },
     "execution_count": 13,
     "metadata": {},
     "output_type": "execute_result"
    }
   ],
   "source": [
    "# A simple demonstration of getting the cross-over positions\n",
    "genome.place_recomb(genome.chroms[1],genome.recomb_events(1))"
   ]
  },
  {
   "cell_type": "code",
   "execution_count": 62,
   "id": "777a7200",
   "metadata": {},
   "outputs": [],
   "source": [
    "## This is an example of Genome with different recombination rate in telomeres vs centromeres\n",
    "class CustomGenome(gsim.Genome):\n",
    "    \n",
    "    def adjust_recomb_profile(self,skip_first_last=True):\n",
    "        \"\"\"Favour recombination at the beginning or end of the chromosome\"\"\"\n",
    "        start,end = None,None\n",
    "        if skip_first_last:\n",
    "            start,end = 1,-1\n",
    "        \n",
    "        if len(self.chroms) > 0:\n",
    "            for c in self.chroms:\n",
    "                l = self.chroms[c].length\n",
    "                for idx,v in enumerate(self.chroms[c].variants[start:end]):\n",
    "                    if 0.3 <v.pos/l < 0.8:\n",
    "                        self.chroms[c].xover_p[idx] *= 0.5\n",
    "                    else:\n",
    "                        self.chroms[c].xover_p[idx] *= 2\n",
    "                ## re-scale the probabilities in order to sum up to 1 in order to be used as weights in genome.place_recomb()\n",
    "                self.chroms[c].xover_p /= self.chroms[c].xover_p.sum()\n",
    "        print(\"Probabilities for xovers were updated\")\n"
   ]
  },
  {
   "cell_type": "code",
   "execution_count": 102,
   "id": "6430f005",
   "metadata": {},
   "outputs": [
    {
     "name": "stdout",
     "output_type": "stream",
     "text": [
      "will now add 20 variants in chromosome 1 [len in bp:1000000/morgans:2] equally spaced every 52631.57894736842 bp, ie 0.10526315789473684 map units\n",
      " chrom 1 has 20 variants\n",
      "will now add 30 variants in chromosome 2 [len in bp:2000000/morgans:3] equally spaced every 68965.5172413793 bp, ie 0.10344827586206896 map units\n",
      " chrom 2 has 30 variants\n"
     ]
    }
   ],
   "source": [
    "## Note I first to have initialise the custom genome and then explicitly pass it to equidistant_genome(), otherwise the function by default it will return the base class\n",
    "lala = CustomGenome()\n",
    "g1 = gsim.equidistant_genome(instructions,lala,rs=None)"
   ]
  },
  {
   "cell_type": "code",
   "execution_count": 103,
   "id": "e8fe2a3b",
   "metadata": {},
   "outputs": [
    {
     "name": "stdout",
     "output_type": "stream",
     "text": [
      "> The probabilties for cross-over:\n",
      "[0.05555556 0.05555556 0.05555556 0.05555556 0.05555556 0.05555556\n",
      " 0.05555556 0.05555556 0.05555556 0.05555556 0.05555556 0.05555556\n",
      " 0.05555556 0.05555556 0.05555556 0.05555556 0.05555556 0.05555556]\n",
      ">Crossovers:\n",
      "[229. 218. 243. 212. 212. 229. 240. 239. 227. 235. 244. 233. 250. 261.\n",
      " 222. 228. 253. 229.]\n"
     ]
    },
    {
     "data": {
      "image/png": "[encoded data removed]",
      "text/plain": [
       "<Figure size 432x288 with 1 Axes>"
      ]
     },
     "metadata": {
      "needs_background": "light"
     },
     "output_type": "display_data"
    }
   ],
   "source": [
    "## before adjustment\n",
    "viz_recomb(g1,chrom_name=1,iters=2000)"
   ]
  },
  {
   "cell_type": "code",
   "execution_count": 104,
   "id": "af5a45ff",
   "metadata": {},
   "outputs": [
    {
     "name": "stdout",
     "output_type": "stream",
     "text": [
      "Probabilities for xovers were updated\n",
      "> The probabilties for cross-over:\n",
      "[0.0952381  0.0952381  0.0952381  0.0952381  0.0952381  0.02380952\n",
      " 0.02380952 0.02380952 0.02380952 0.02380952 0.02380952 0.02380952\n",
      " 0.02380952 0.02380952 0.02380952 0.0952381  0.0952381  0.0952381 ]\n",
      ">Crossovers:\n",
      "[401. 414. 379. 377. 383. 103. 112. 107. 126. 100. 104. 107. 104. 110.\n",
      " 105. 415. 370. 414.]\n"
     ]
    },
    {
     "data": {
      "image/png": "[encoded data removed]",
      "text/plain": [
       "<Figure size 432x288 with 1 Axes>"
      ]
     },
     "metadata": {
      "needs_background": "light"
     },
     "output_type": "display_data"
    }
   ],
   "source": [
    "g1.adjust_recomb_profile()\n",
    "viz_recomb(g1,chrom_name=1,iters=2000)"
   ]
  },
  {
   "cell_type": "markdown",
   "id": "f33a9bbd",
   "metadata": {},
   "source": [
    "## 2. Compare using a Bionomial vs Poisson distribution to determine number of cross-overs\n",
    "\n",
    "In this example, the base class Genome is extended by modifying recomb_events(). The idea is to use the Binomial distribution to draw the number of cross-overs (as in function [sample_genome](https://github.com/reworkhow/XSim.jl/blob/master/src/core/genome.jl) from XSim.jl) as opposed to the alternative to draw from a Poisson distribution (see for an alternative implementaion in package SeqBreed in function [mpeiosis](https://github.com/miguelperezenciso/SeqBreed/blob/master/src/genome.py)). In essence both approach should yield the similar results (for more background ,check this [slides](https://mathweb.ucsd.edu/~gptesler/283/slides/186_poisson_f19-handout.pdf))."
   ]
  },
  {
   "cell_type": "code",
   "execution_count": 115,
   "id": "644acd48",
   "metadata": {},
   "outputs": [],
   "source": [
    "import math\n",
    "\n",
    "class CustomGenome2(gsim.Genome):\n",
    "    \n",
    "    def recomb_events(self,chrom_name,obligatory=1,max_events_asPropChromLen=None):\n",
    "        \"\"\"Determines the number of cross-overs in a chromosome drawing from a poisson distribution\n",
    "           Allows to specify the maximun number of events as a proportion of the chromosome length\n",
    "        \"\"\"\n",
    "        if chrom_name in self.chroms:\n",
    "            n_Binomial = math.ceil(self.chroms[chrom_name].morgans + 1)    #add 1 is optional, makes the chromosome \"larger\"\n",
    "            p_Binomial = self.chroms[chrom_name].morgans/n_Binomial        #the expectation for number of crossovers\n",
    "            r = self.rs.binomial(n_Binomial, p_Binomial)\n",
    "            if max_events_asPropChromLen:\n",
    "                max_recomb = self.chroms[chrom_name].morgans * max_events_asPropChromLen\n",
    "                if r > max_recomb:\n",
    "                    r = max_recomb\n",
    "            return r if r >= 1 else obligatory\n",
    "        return None"
   ]
  },
  {
   "cell_type": "code",
   "execution_count": 116,
   "id": "9cbf9c5c",
   "metadata": {},
   "outputs": [
    {
     "name": "stdout",
     "output_type": "stream",
     "text": [
      "will now add 20 variants in chromosome 1 [len in bp:1000000/morgans:2] equally spaced every 52631.57894736842 bp, ie 0.10526315789473684 map units\n",
      " chrom 1 has 20 variants\n",
      "will now add 30 variants in chromosome 2 [len in bp:2000000/morgans:3] equally spaced every 68965.5172413793 bp, ie 0.10344827586206896 map units\n",
      " chrom 2 has 30 variants\n",
      "> The probabilties for cross-over:\n",
      "[0.05555556 0.05555556 0.05555556 0.05555556 0.05555556 0.05555556\n",
      " 0.05555556 0.05555556 0.05555556 0.05555556 0.05555556 0.05555556\n",
      " 0.05555556 0.05555556 0.05555556 0.05555556 0.05555556 0.05555556]\n",
      ">Crossovers:\n",
      "[248. 218. 205. 209. 240. 240. 232. 224. 229. 218. 230. 229. 196. 260.\n",
      " 225. 227. 215. 218.]\n"
     ]
    },
    {
     "data": {
      "image/png": "[encoded data removed]",
      "text/plain": [
       "<Figure size 432x288 with 1 Axes>"
      ]
     },
     "metadata": {
      "needs_background": "light"
     },
     "output_type": "display_data"
    }
   ],
   "source": [
    "## In this occassion, the new Genome object has already modified behaviour, so need to adjust\n",
    "lala2 = CustomGenome2()\n",
    "g2 = gsim.equidistant_genome(instructions,lala2,rs=None)\n",
    "viz_recomb(g2,chrom_name=1,iters=2000)"
   ]
  },
  {
   "cell_type": "code",
   "execution_count": 97,
   "id": "11f88d07",
   "metadata": {},
   "outputs": [
    {
     "name": "stdout",
     "output_type": "stream",
     "text": [
      "162 ms ± 3.47 ms per loop (mean ± std. dev. of 7 runs, 10 loops each)\n"
     ]
    }
   ],
   "source": [
    "#Compare times between Bionomial and Poisson\n",
    "%timeit do_recombs(g2,chrom_name=1,iters=2000)      #using the Bionomial, ie object g2"
   ]
  },
  {
   "cell_type": "code",
   "execution_count": null,
   "id": "08f158a4",
   "metadata": {
    "jupyter": {
     "source_hidden": true
    },
    "tags": []
   },
   "outputs": [],
   "source": []
  },
  {
   "cell_type": "code",
   "execution_count": 99,
   "id": "ece61653",
   "metadata": {},
   "outputs": [
    {
     "name": "stdout",
     "output_type": "stream",
     "text": [
      "157 ms ± 4.93 ms per loop (mean ± std. dev. of 7 runs, 10 loops each)\n"
     ]
    }
   ],
   "source": [
    "%timeit do_recombs(genome,chrom_name=1,iters=2000)  #using the Poisson, ie object genome"
   ]
  },
  {
   "cell_type": "code",
   "execution_count": null,
   "id": "fa78b247",
   "metadata": {},
   "outputs": [],
   "source": []
  },
  {
   "cell_type": "code",
   "execution_count": null,
   "id": "a88a6792",
   "metadata": {},
   "outputs": [],
   "source": []
  },
  {
   "cell_type": "code",
   "execution_count": 15,
   "id": "8c155549",
   "metadata": {},
   "outputs": [
    {
     "name": "stdout",
     "output_type": "stream",
     "text": [
      "155 ms ± 3.08 ms per loop (mean ± std. dev. of 7 runs, 10 loops each)\n"
     ]
    }
   ],
   "source": [
    "%timeit do_recombs(genome,chrom_name=1,iters=2000)"
   ]
  },
  {
   "cell_type": "code",
   "execution_count": 38,
   "id": "a9e8e9ac",
   "metadata": {},
   "outputs": [
    {
     "name": "stdout",
     "output_type": "stream",
     "text": [
      "will now add 20 variants in chromosome 1 [len in bp:1000000/morgans:2] equally spaced every 52631 bp, ie every 10.53 centiMorgans\n",
      " chrom 1 has 20 variants\n",
      "will now add 30 variants in chromosome 2 [len in bp:2000000/morgans:3] equally spaced every 68965 bp, ie every 10.34 centiMorgans\n",
      " chrom 2 has 30 variants\n"
     ]
    }
   ],
   "source": [
    "## with mod_len\n",
    "g12 = gsim.equidistant_genome(instructions,rs=gsim.randomise(seed=42))"
   ]
  },
  {
   "cell_type": "code",
   "execution_count": 40,
   "id": "0bd38a95",
   "metadata": {},
   "outputs": [
    {
     "name": "stdout",
     "output_type": "stream",
     "text": [
      "157 ms ± 669 µs per loop (mean ± std. dev. of 7 runs, 10 loops each)\n"
     ]
    }
   ],
   "source": [
    "%timeit do_recombs(g12,chrom_name=1,iters=2000)"
   ]
  },
  {
   "cell_type": "code",
   "execution_count": null,
   "id": "e563fcc1",
   "metadata": {},
   "outputs": [],
   "source": []
  },
  {
   "cell_type": "code",
   "execution_count": null,
   "id": "e161069e",
   "metadata": {},
   "outputs": [],
   "source": []
  },
  {
   "cell_type": "code",
   "execution_count": 117,
   "id": "5b1979a3",
   "metadata": {},
   "outputs": [],
   "source": [
    "### This is developmental code. The idea was to generate a custom Distribution to draw xovers positions. This however adds complexity, while using the weights in the numpy.random.choice is much more simple"
   ]
  },
  {
   "cell_type": "code",
   "execution_count": 145,
   "id": "934c316b",
   "metadata": {},
   "outputs": [],
   "source": [
    "from scipy.stats import beta"
   ]
  },
  {
   "cell_type": "code",
   "execution_count": 168,
   "id": "785a6281",
   "metadata": {},
   "outputs": [],
   "source": [
    "samples = [beta.cdf(x,0.5,0.5) for x in np.arange(0.01,1,0.01)]"
   ]
  },
  {
   "cell_type": "code",
   "execution_count": 166,
   "id": "994db758",
   "metadata": {},
   "outputs": [],
   "source": [
    "import seaborn as sns"
   ]
  },
  {
   "cell_type": "code",
   "execution_count": 169,
   "id": "142e3cbb",
   "metadata": {},
   "outputs": [
    {
     "name": "stderr",
     "output_type": "stream",
     "text": [
      "/Users/andreas/anaconda3/lib/python3.7/site-packages/seaborn/distributions.py:2557: FutureWarning: `distplot` is a deprecated function and will be removed in a future version. Please adapt your code to use either `displot` (a figure-level function with similar flexibility) or `histplot` (an axes-level function for histograms).\n",
      "  warnings.warn(msg, FutureWarning)\n"
     ]
    },
    {
     "data": {
      "text/plain": [
       "<AxesSubplot:ylabel='Density'>"
      ]
     },
     "execution_count": 169,
     "metadata": {},
     "output_type": "execute_result"
    },
    {
     "data": {
      "image/png": "[encoded data removed]",
      "text/plain": [
       "<Figure size 432x288 with 1 Axes>"
      ]
     },
     "metadata": {
      "needs_background": "light"
     },
     "output_type": "display_data"
    }
   ],
   "source": [
    "sns.distplot(samples)"
   ]
  },
  {
   "cell_type": "code",
   "execution_count": 179,
   "id": "fccd9b70",
   "metadata": {},
   "outputs": [],
   "source": [
    "def random_custDist(x0,x1,custDist,size=None, nControl=10**6):\n",
    "    #genearte a list of size random samples, obeying the distribution custDist\n",
    "    #suggests random samples between x0 and x1 and accepts the suggestion with probability custDist(x)\n",
    "    #custDist noes not need to be normalized. Add this condition to increase performance. \n",
    "    #Best performance for max_{x in [x0,x1]} custDist(x) = 1\n",
    "    samples=[]\n",
    "    nLoop=0\n",
    "    while len(samples)<size and nLoop<nControl:\n",
    "        x=np.random.uniform(low=x0,high=x1)\n",
    "        prop=custDist(x/x1)\n",
    "        assert prop>=0 and prop<=1\n",
    "        if np.random.uniform(low=0,high=1) <=prop:\n",
    "            samples += [x]\n",
    "            #print(1,x,prop)\n",
    "        nLoop+=1\n",
    "    return samples"
   ]
  },
  {
   "cell_type": "code",
   "execution_count": 182,
   "id": "8f888b5b",
   "metadata": {},
   "outputs": [
    {
     "name": "stdout",
     "output_type": "stream",
     "text": [
      "[0.36206854545774037, 1.8767107133010303, 1.709635905559415, 0.28566874280962185, 0.32514298053867674, 1.0059808486115218, 1.983586241152336, 1.4028123549688887, 0.3017890767748901, 1.9783923864838415]\n"
     ]
    }
   ],
   "source": [
    "x0=0\n",
    "x1=2\n",
    "#chrom_size = 2\n",
    "def custDist(x):\n",
    "    if 0.2 < x < 0.8:\n",
    "        return 0.3\n",
    "    else:\n",
    "        return 0.7\n",
    "\n",
    "samples=random_custDist(x0,x1,custDist=custDist,size=1000)\n",
    "print(samples[:10])"
   ]
  },
  {
   "cell_type": "code",
   "execution_count": 202,
   "id": "02248e6f",
   "metadata": {},
   "outputs": [
    {
     "name": "stderr",
     "output_type": "stream",
     "text": [
      "/Users/andreas/anaconda3/lib/python3.7/site-packages/seaborn/distributions.py:2557: FutureWarning: `distplot` is a deprecated function and will be removed in a future version. Please adapt your code to use either `displot` (a figure-level function with similar flexibility) or `histplot` (an axes-level function for histograms).\n",
      "  warnings.warn(msg, FutureWarning)\n"
     ]
    },
    {
     "data": {
      "image/png": "[encoded data removed]",
      "text/plain": [
       "<Figure size 432x288 with 1 Axes>"
      ]
     },
     "metadata": {
      "needs_background": "light"
     },
     "output_type": "display_data"
    }
   ],
   "source": [
    "sns.distplot(samples,bins=10)\n",
    "\n",
    "##dist\n",
    "grid=np.linspace(x0,x1,100)\n",
    "discCustDist=np.array([custDist(x/x1) for x in grid]) #distrete version\n",
    "discCustDist*=1/(grid[1]-grid[0])/np.sum(discCustDist)\n",
    "plt.plot(grid,discCustDist,label='custom distribustion (custDist)', color='C1', linewidth=4)\n",
    "##decoration\n",
    "plt.legend(loc=3,bbox_to_anchor=(1,0))\n",
    "plt.show()"
   ]
  },
  {
   "cell_type": "code",
   "execution_count": 185,
   "id": "9454bc03",
   "metadata": {},
   "outputs": [],
   "source": [
    "import scipy.stats as st"
   ]
  },
  {
   "cell_type": "code",
   "execution_count": 186,
   "id": "cc6b1ea5",
   "metadata": {},
   "outputs": [],
   "source": [
    "class my_pdf(st.rv_continuous):\n",
    "    def _pdf(self,x):\n",
    "        if 0.2 < x < 0.8:\n",
    "            return 0.3\n",
    "        else:\n",
    "            return 0.7\n"
   ]
  },
  {
   "cell_type": "code",
   "execution_count": 187,
   "id": "5bd4b9b6",
   "metadata": {},
   "outputs": [],
   "source": [
    "my_cv = my_pdf(a=0, b=1, name='my_pdf')"
   ]
  },
  {
   "cell_type": "code",
   "execution_count": 197,
   "id": "c3524123",
   "metadata": {},
   "outputs": [
    {
     "name": "stderr",
     "output_type": "stream",
     "text": [
      "/Users/andreas/anaconda3/lib/python3.7/site-packages/scipy/stats/_distn_infrastructure.py:1801: IntegrationWarning: The maximum number of subdivisions (50) has been achieved.\n",
      "  If increasing the limit yields no improvement it is advised to analyze \n",
      "  the integrand in order to determine the difficulties.  If the position of a \n",
      "  local difficulty can be determined (singularity, discontinuity) one will \n",
      "  probably gain from splitting up the interval and calling the integrator \n",
      "  on the subranges.  Perhaps a special-purpose integrator should be used.\n",
      "  return integrate.quad(self._pdf, _a, x, args=args)[0]\n",
      "/Users/andreas/anaconda3/lib/python3.7/site-packages/seaborn/distributions.py:2557: FutureWarning: `distplot` is a deprecated function and will be removed in a future version. Please adapt your code to use either `displot` (a figure-level function with similar flexibility) or `histplot` (an axes-level function for histograms).\n",
      "  warnings.warn(msg, FutureWarning)\n"
     ]
    },
    {
     "data": {
      "text/plain": [
       "<AxesSubplot:ylabel='Density'>"
      ]
     },
     "execution_count": 197,
     "metadata": {},
     "output_type": "execute_result"
    },
    {
     "data": {
      "image/png": "[encoded data removed]",
      "text/plain": [
       "<Figure size 432x288 with 1 Axes>"
      ]
     },
     "metadata": {
      "needs_background": "light"
     },
     "output_type": "display_data"
    }
   ],
   "source": [
    "samples2 = [my_cv.rvs() for i in range(1000)]\n",
    "sns.distplot(samples2)\n"
   ]
  }
 ],
 "metadata": {
  "kernelspec": {
   "display_name": "Python 3 (ipykernel)",
   "language": "python",
   "name": "python3"
  },
  "language_info": {
   "codemirror_mode": {
    "name": "ipython",
    "version": 3
   },
   "file_extension": ".py",
   "mimetype": "text/x-python",
   "name": "python",
   "nbconvert_exporter": "python",
   "pygments_lexer": "ipython3",
   "version": "3.7.5"
  }
 },
 "nbformat": 4,
 "nbformat_minor": 5
}

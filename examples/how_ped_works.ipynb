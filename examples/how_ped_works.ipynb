{
 "cells": [
  {
   "cell_type": "code",
   "execution_count": null,
   "id": "f3276f96",
   "metadata": {},
   "outputs": [],
   "source": []
  },
  {
   "cell_type": "code",
   "execution_count": 1,
   "id": "6e5d5392",
   "metadata": {},
   "outputs": [],
   "source": [
    "## for local developement\n",
    "%load_ext autoreload\n",
    "%autoreload 2"
   ]
  },
  {
   "cell_type": "code",
   "execution_count": 2,
   "id": "ab38eee3",
   "metadata": {},
   "outputs": [],
   "source": [
    "%matplotlib inline\n",
    "import matplotlib\n",
    "import numpy as np\n",
    "import matplotlib.pyplot as plt\n",
    "import pandas as pd"
   ]
  },
  {
   "cell_type": "code",
   "execution_count": 86,
   "id": "c753770f",
   "metadata": {},
   "outputs": [],
   "source": [
    "import quickgsim as gsim"
   ]
  },
  {
   "cell_type": "code",
   "execution_count": 66,
   "id": "b9e038bb",
   "metadata": {},
   "outputs": [],
   "source": [
    "def visualise_Amatrix(Amat,outFile=None,cmap=None,use_spy=False):\n",
    "    def get_colormap():\n",
    "        \"\"\" from http://www.scipy.org/Cookbook/Matplotlib/Show_colormaps \"\"\"\n",
    "        cdict = {'red': ((0.0, 0.0, 0.0),\n",
    "                    (0.25, 1.0, 0.7),\n",
    "                    (0.5, 1.0, 0.0),\n",
    "                     (1.0, 1.0, 1.0)),\n",
    "             'green': ((0.0, 0.0, 0.0),\n",
    "                       (0.25, 1.0, 0.0),\n",
    "                       (0.5, 1.0, 0.7),\n",
    "                       (1.0, 1.0, 1.0)),\n",
    "             'blue': ((0.0, 0.0, 0.0),\n",
    "                      (0.25, 1.0, 0.0),\n",
    "                     (0.5, 1.0, 0.0),\n",
    "                     (1.0, 0.5, 1.0))}\n",
    "        return plt.matplotlib.colors.LinearSegmentedColormap('my_colormap',cdict,256)\n",
    "\n",
    "    plt.clf()\n",
    "    if use_spy:\n",
    "        plt.spy(Amat,cmap=plt.cm.hot)\n",
    "        #plt.spy(Amat,cmap=get_colormap())    # with a custom highly segmented map\n",
    "    else:\n",
    "        plt.imshow(Amat) #,cmap=get_colormap())\n",
    "        plt.hot()\n",
    "    plt.colorbar()\n",
    "\n",
    "    if outFile:\n",
    "        plt.savefig(outFile,dpi=600)\n",
    "    else:\n",
    "        plt.show()"
   ]
  },
  {
   "cell_type": "code",
   "execution_count": 89,
   "id": "5786c4df",
   "metadata": {},
   "outputs": [],
   "source": [
    "p = gsim.PedigreePop()"
   ]
  },
  {
   "cell_type": "code",
   "execution_count": 13,
   "id": "703f8b02",
   "metadata": {},
   "outputs": [],
   "source": [
    "## see https://gsejournal.biomedcentral.com/articles/10.1186/s12711-019-0449-7/figures/1\n",
    "s,d = p.read_ped_from_file(\"simplePed.txt\",sep=\",\")"
   ]
  },
  {
   "cell_type": "code",
   "execution_count": 14,
   "id": "3cda6393",
   "metadata": {},
   "outputs": [
    {
     "data": {
      "text/html": [
       "<div>\n",
       "<style scoped>\n",
       "    .dataframe tbody tr th:only-of-type {\n",
       "        vertical-align: middle;\n",
       "    }\n",
       "\n",
       "    .dataframe tbody tr th {\n",
       "        vertical-align: top;\n",
       "    }\n",
       "\n",
       "    .dataframe thead th {\n",
       "        text-align: right;\n",
       "    }\n",
       "</style>\n",
       "<table border=\"1\" class=\"dataframe\">\n",
       "  <thead>\n",
       "    <tr style=\"text-align: right;\">\n",
       "      <th></th>\n",
       "      <th>0</th>\n",
       "      <th>1</th>\n",
       "      <th>2</th>\n",
       "      <th>3</th>\n",
       "      <th>4</th>\n",
       "      <th>5</th>\n",
       "      <th>6</th>\n",
       "    </tr>\n",
       "  </thead>\n",
       "  <tbody>\n",
       "    <tr>\n",
       "      <th>0</th>\n",
       "      <td>1.00</td>\n",
       "      <td>0.000</td>\n",
       "      <td>0.000</td>\n",
       "      <td>0.5000</td>\n",
       "      <td>0.5000</td>\n",
       "      <td>0.5000</td>\n",
       "      <td>0.2500</td>\n",
       "    </tr>\n",
       "    <tr>\n",
       "      <th>1</th>\n",
       "      <td>0.00</td>\n",
       "      <td>1.000</td>\n",
       "      <td>0.000</td>\n",
       "      <td>0.5000</td>\n",
       "      <td>0.0000</td>\n",
       "      <td>0.2500</td>\n",
       "      <td>0.1250</td>\n",
       "    </tr>\n",
       "    <tr>\n",
       "      <th>2</th>\n",
       "      <td>0.00</td>\n",
       "      <td>0.000</td>\n",
       "      <td>1.000</td>\n",
       "      <td>0.0000</td>\n",
       "      <td>0.5000</td>\n",
       "      <td>0.2500</td>\n",
       "      <td>0.6250</td>\n",
       "    </tr>\n",
       "    <tr>\n",
       "      <th>3</th>\n",
       "      <td>0.50</td>\n",
       "      <td>0.500</td>\n",
       "      <td>0.000</td>\n",
       "      <td>1.0000</td>\n",
       "      <td>0.2500</td>\n",
       "      <td>0.6250</td>\n",
       "      <td>0.3125</td>\n",
       "    </tr>\n",
       "    <tr>\n",
       "      <th>4</th>\n",
       "      <td>0.50</td>\n",
       "      <td>0.000</td>\n",
       "      <td>0.500</td>\n",
       "      <td>0.2500</td>\n",
       "      <td>1.0000</td>\n",
       "      <td>0.6250</td>\n",
       "      <td>0.5625</td>\n",
       "    </tr>\n",
       "    <tr>\n",
       "      <th>5</th>\n",
       "      <td>0.50</td>\n",
       "      <td>0.250</td>\n",
       "      <td>0.250</td>\n",
       "      <td>0.6250</td>\n",
       "      <td>0.6250</td>\n",
       "      <td>1.1250</td>\n",
       "      <td>0.6875</td>\n",
       "    </tr>\n",
       "    <tr>\n",
       "      <th>6</th>\n",
       "      <td>0.25</td>\n",
       "      <td>0.125</td>\n",
       "      <td>0.625</td>\n",
       "      <td>0.3125</td>\n",
       "      <td>0.5625</td>\n",
       "      <td>0.6875</td>\n",
       "      <td>1.1250</td>\n",
       "    </tr>\n",
       "  </tbody>\n",
       "</table>\n",
       "</div>"
      ],
      "text/plain": [
       "      0      1      2       3       4       5       6\n",
       "0  1.00  0.000  0.000  0.5000  0.5000  0.5000  0.2500\n",
       "1  0.00  1.000  0.000  0.5000  0.0000  0.2500  0.1250\n",
       "2  0.00  0.000  1.000  0.0000  0.5000  0.2500  0.6250\n",
       "3  0.50  0.500  0.000  1.0000  0.2500  0.6250  0.3125\n",
       "4  0.50  0.000  0.500  0.2500  1.0000  0.6250  0.5625\n",
       "5  0.50  0.250  0.250  0.6250  0.6250  1.1250  0.6875\n",
       "6  0.25  0.125  0.625  0.3125  0.5625  0.6875  1.1250"
      ]
     },
     "execution_count": 14,
     "metadata": {},
     "output_type": "execute_result"
    }
   ],
   "source": [
    "pd.DataFrame(p.get_Amat(p.ped))"
   ]
  },
  {
   "cell_type": "markdown",
   "id": "582c12ad",
   "metadata": {},
   "source": [
    "https://gsejournal.biomedcentral.com/articles/10.1186/s12711-019-0449-7/figures/1"
   ]
  },
  {
   "cell_type": "code",
   "execution_count": 90,
   "id": "4e3e139f",
   "metadata": {},
   "outputs": [],
   "source": [
    "s,d = p.read_ped_from_file(\"simplePed2.txt\",sep=\",\")  #this is from: https://www.journalofdairyscience.org/article/S0022-0302(09)70793-3/fulltext"
   ]
  },
  {
   "cell_type": "code",
   "execution_count": 91,
   "id": "89a4b57c",
   "metadata": {},
   "outputs": [
    {
     "data": {
      "text/html": [
       "<div>\n",
       "<style scoped>\n",
       "    .dataframe tbody tr th:only-of-type {\n",
       "        vertical-align: middle;\n",
       "    }\n",
       "\n",
       "    .dataframe tbody tr th {\n",
       "        vertical-align: top;\n",
       "    }\n",
       "\n",
       "    .dataframe thead th {\n",
       "        text-align: right;\n",
       "    }\n",
       "</style>\n",
       "<table border=\"1\" class=\"dataframe\">\n",
       "  <thead>\n",
       "    <tr style=\"text-align: right;\">\n",
       "      <th></th>\n",
       "      <th>0</th>\n",
       "      <th>1</th>\n",
       "      <th>2</th>\n",
       "      <th>3</th>\n",
       "      <th>4</th>\n",
       "      <th>5</th>\n",
       "      <th>6</th>\n",
       "      <th>7</th>\n",
       "      <th>8</th>\n",
       "      <th>9</th>\n",
       "      <th>10</th>\n",
       "      <th>11</th>\n",
       "      <th>12</th>\n",
       "      <th>13</th>\n",
       "      <th>14</th>\n",
       "      <th>15</th>\n",
       "      <th>16</th>\n",
       "    </tr>\n",
       "  </thead>\n",
       "  <tbody>\n",
       "    <tr>\n",
       "      <th>0</th>\n",
       "      <td>1.000</td>\n",
       "      <td>0.000</td>\n",
       "      <td>0.000</td>\n",
       "      <td>0.000</td>\n",
       "      <td>0.000</td>\n",
       "      <td>0.000</td>\n",
       "      <td>0.000</td>\n",
       "      <td>0.000</td>\n",
       "      <td>0.50</td>\n",
       "      <td>0.000</td>\n",
       "      <td>0.00</td>\n",
       "      <td>0.00</td>\n",
       "      <td>0.2500</td>\n",
       "      <td>0.0000</td>\n",
       "      <td>0.000</td>\n",
       "      <td>0.12500</td>\n",
       "      <td>0.12500</td>\n",
       "    </tr>\n",
       "    <tr>\n",
       "      <th>1</th>\n",
       "      <td>0.000</td>\n",
       "      <td>1.000</td>\n",
       "      <td>0.000</td>\n",
       "      <td>0.000</td>\n",
       "      <td>0.000</td>\n",
       "      <td>0.000</td>\n",
       "      <td>0.000</td>\n",
       "      <td>0.000</td>\n",
       "      <td>0.00</td>\n",
       "      <td>0.500</td>\n",
       "      <td>0.00</td>\n",
       "      <td>0.00</td>\n",
       "      <td>0.2500</td>\n",
       "      <td>0.0000</td>\n",
       "      <td>0.000</td>\n",
       "      <td>0.12500</td>\n",
       "      <td>0.12500</td>\n",
       "    </tr>\n",
       "    <tr>\n",
       "      <th>2</th>\n",
       "      <td>0.000</td>\n",
       "      <td>0.000</td>\n",
       "      <td>1.000</td>\n",
       "      <td>0.000</td>\n",
       "      <td>0.000</td>\n",
       "      <td>0.000</td>\n",
       "      <td>0.000</td>\n",
       "      <td>0.000</td>\n",
       "      <td>0.00</td>\n",
       "      <td>0.500</td>\n",
       "      <td>0.00</td>\n",
       "      <td>0.00</td>\n",
       "      <td>0.2500</td>\n",
       "      <td>0.5000</td>\n",
       "      <td>0.000</td>\n",
       "      <td>0.37500</td>\n",
       "      <td>0.12500</td>\n",
       "    </tr>\n",
       "    <tr>\n",
       "      <th>3</th>\n",
       "      <td>0.000</td>\n",
       "      <td>0.000</td>\n",
       "      <td>0.000</td>\n",
       "      <td>1.000</td>\n",
       "      <td>0.000</td>\n",
       "      <td>0.000</td>\n",
       "      <td>0.000</td>\n",
       "      <td>0.000</td>\n",
       "      <td>0.00</td>\n",
       "      <td>0.000</td>\n",
       "      <td>0.50</td>\n",
       "      <td>0.00</td>\n",
       "      <td>0.0000</td>\n",
       "      <td>0.2500</td>\n",
       "      <td>0.250</td>\n",
       "      <td>0.12500</td>\n",
       "      <td>0.12500</td>\n",
       "    </tr>\n",
       "    <tr>\n",
       "      <th>4</th>\n",
       "      <td>0.000</td>\n",
       "      <td>0.000</td>\n",
       "      <td>0.000</td>\n",
       "      <td>0.000</td>\n",
       "      <td>1.000</td>\n",
       "      <td>0.000</td>\n",
       "      <td>0.000</td>\n",
       "      <td>0.000</td>\n",
       "      <td>0.00</td>\n",
       "      <td>0.000</td>\n",
       "      <td>0.00</td>\n",
       "      <td>0.50</td>\n",
       "      <td>0.0000</td>\n",
       "      <td>0.0000</td>\n",
       "      <td>0.250</td>\n",
       "      <td>0.00000</td>\n",
       "      <td>0.12500</td>\n",
       "    </tr>\n",
       "    <tr>\n",
       "      <th>5</th>\n",
       "      <td>0.000</td>\n",
       "      <td>0.000</td>\n",
       "      <td>0.000</td>\n",
       "      <td>0.000</td>\n",
       "      <td>0.000</td>\n",
       "      <td>1.000</td>\n",
       "      <td>0.000</td>\n",
       "      <td>0.000</td>\n",
       "      <td>0.50</td>\n",
       "      <td>0.000</td>\n",
       "      <td>0.00</td>\n",
       "      <td>0.00</td>\n",
       "      <td>0.2500</td>\n",
       "      <td>0.0000</td>\n",
       "      <td>0.000</td>\n",
       "      <td>0.12500</td>\n",
       "      <td>0.12500</td>\n",
       "    </tr>\n",
       "    <tr>\n",
       "      <th>6</th>\n",
       "      <td>0.000</td>\n",
       "      <td>0.000</td>\n",
       "      <td>0.000</td>\n",
       "      <td>0.000</td>\n",
       "      <td>0.000</td>\n",
       "      <td>0.000</td>\n",
       "      <td>1.000</td>\n",
       "      <td>0.000</td>\n",
       "      <td>0.00</td>\n",
       "      <td>0.000</td>\n",
       "      <td>0.50</td>\n",
       "      <td>0.00</td>\n",
       "      <td>0.0000</td>\n",
       "      <td>0.2500</td>\n",
       "      <td>0.250</td>\n",
       "      <td>0.12500</td>\n",
       "      <td>0.12500</td>\n",
       "    </tr>\n",
       "    <tr>\n",
       "      <th>7</th>\n",
       "      <td>0.000</td>\n",
       "      <td>0.000</td>\n",
       "      <td>0.000</td>\n",
       "      <td>0.000</td>\n",
       "      <td>0.000</td>\n",
       "      <td>0.000</td>\n",
       "      <td>0.000</td>\n",
       "      <td>1.000</td>\n",
       "      <td>0.00</td>\n",
       "      <td>0.000</td>\n",
       "      <td>0.00</td>\n",
       "      <td>0.50</td>\n",
       "      <td>0.0000</td>\n",
       "      <td>0.0000</td>\n",
       "      <td>0.250</td>\n",
       "      <td>0.00000</td>\n",
       "      <td>0.12500</td>\n",
       "    </tr>\n",
       "    <tr>\n",
       "      <th>8</th>\n",
       "      <td>0.500</td>\n",
       "      <td>0.000</td>\n",
       "      <td>0.000</td>\n",
       "      <td>0.000</td>\n",
       "      <td>0.000</td>\n",
       "      <td>0.500</td>\n",
       "      <td>0.000</td>\n",
       "      <td>0.000</td>\n",
       "      <td>1.00</td>\n",
       "      <td>0.000</td>\n",
       "      <td>0.00</td>\n",
       "      <td>0.00</td>\n",
       "      <td>0.5000</td>\n",
       "      <td>0.0000</td>\n",
       "      <td>0.000</td>\n",
       "      <td>0.25000</td>\n",
       "      <td>0.25000</td>\n",
       "    </tr>\n",
       "    <tr>\n",
       "      <th>9</th>\n",
       "      <td>0.000</td>\n",
       "      <td>0.500</td>\n",
       "      <td>0.500</td>\n",
       "      <td>0.000</td>\n",
       "      <td>0.000</td>\n",
       "      <td>0.000</td>\n",
       "      <td>0.000</td>\n",
       "      <td>0.000</td>\n",
       "      <td>0.00</td>\n",
       "      <td>1.000</td>\n",
       "      <td>0.00</td>\n",
       "      <td>0.00</td>\n",
       "      <td>0.5000</td>\n",
       "      <td>0.2500</td>\n",
       "      <td>0.000</td>\n",
       "      <td>0.37500</td>\n",
       "      <td>0.25000</td>\n",
       "    </tr>\n",
       "    <tr>\n",
       "      <th>10</th>\n",
       "      <td>0.000</td>\n",
       "      <td>0.000</td>\n",
       "      <td>0.000</td>\n",
       "      <td>0.500</td>\n",
       "      <td>0.000</td>\n",
       "      <td>0.000</td>\n",
       "      <td>0.500</td>\n",
       "      <td>0.000</td>\n",
       "      <td>0.00</td>\n",
       "      <td>0.000</td>\n",
       "      <td>1.00</td>\n",
       "      <td>0.00</td>\n",
       "      <td>0.0000</td>\n",
       "      <td>0.5000</td>\n",
       "      <td>0.500</td>\n",
       "      <td>0.25000</td>\n",
       "      <td>0.25000</td>\n",
       "    </tr>\n",
       "    <tr>\n",
       "      <th>11</th>\n",
       "      <td>0.000</td>\n",
       "      <td>0.000</td>\n",
       "      <td>0.000</td>\n",
       "      <td>0.000</td>\n",
       "      <td>0.500</td>\n",
       "      <td>0.000</td>\n",
       "      <td>0.000</td>\n",
       "      <td>0.500</td>\n",
       "      <td>0.00</td>\n",
       "      <td>0.000</td>\n",
       "      <td>0.00</td>\n",
       "      <td>1.00</td>\n",
       "      <td>0.0000</td>\n",
       "      <td>0.0000</td>\n",
       "      <td>0.500</td>\n",
       "      <td>0.00000</td>\n",
       "      <td>0.25000</td>\n",
       "    </tr>\n",
       "    <tr>\n",
       "      <th>12</th>\n",
       "      <td>0.250</td>\n",
       "      <td>0.250</td>\n",
       "      <td>0.250</td>\n",
       "      <td>0.000</td>\n",
       "      <td>0.000</td>\n",
       "      <td>0.250</td>\n",
       "      <td>0.000</td>\n",
       "      <td>0.000</td>\n",
       "      <td>0.50</td>\n",
       "      <td>0.500</td>\n",
       "      <td>0.00</td>\n",
       "      <td>0.00</td>\n",
       "      <td>1.0000</td>\n",
       "      <td>0.1250</td>\n",
       "      <td>0.000</td>\n",
       "      <td>0.56250</td>\n",
       "      <td>0.50000</td>\n",
       "    </tr>\n",
       "    <tr>\n",
       "      <th>13</th>\n",
       "      <td>0.000</td>\n",
       "      <td>0.000</td>\n",
       "      <td>0.500</td>\n",
       "      <td>0.250</td>\n",
       "      <td>0.000</td>\n",
       "      <td>0.000</td>\n",
       "      <td>0.250</td>\n",
       "      <td>0.000</td>\n",
       "      <td>0.00</td>\n",
       "      <td>0.250</td>\n",
       "      <td>0.50</td>\n",
       "      <td>0.00</td>\n",
       "      <td>0.1250</td>\n",
       "      <td>1.0000</td>\n",
       "      <td>0.250</td>\n",
       "      <td>0.56250</td>\n",
       "      <td>0.18750</td>\n",
       "    </tr>\n",
       "    <tr>\n",
       "      <th>14</th>\n",
       "      <td>0.000</td>\n",
       "      <td>0.000</td>\n",
       "      <td>0.000</td>\n",
       "      <td>0.250</td>\n",
       "      <td>0.250</td>\n",
       "      <td>0.000</td>\n",
       "      <td>0.250</td>\n",
       "      <td>0.250</td>\n",
       "      <td>0.00</td>\n",
       "      <td>0.000</td>\n",
       "      <td>0.50</td>\n",
       "      <td>0.50</td>\n",
       "      <td>0.0000</td>\n",
       "      <td>0.2500</td>\n",
       "      <td>1.000</td>\n",
       "      <td>0.12500</td>\n",
       "      <td>0.50000</td>\n",
       "    </tr>\n",
       "    <tr>\n",
       "      <th>15</th>\n",
       "      <td>0.125</td>\n",
       "      <td>0.125</td>\n",
       "      <td>0.375</td>\n",
       "      <td>0.125</td>\n",
       "      <td>0.000</td>\n",
       "      <td>0.125</td>\n",
       "      <td>0.125</td>\n",
       "      <td>0.000</td>\n",
       "      <td>0.25</td>\n",
       "      <td>0.375</td>\n",
       "      <td>0.25</td>\n",
       "      <td>0.00</td>\n",
       "      <td>0.5625</td>\n",
       "      <td>0.5625</td>\n",
       "      <td>0.125</td>\n",
       "      <td>1.06250</td>\n",
       "      <td>0.34375</td>\n",
       "    </tr>\n",
       "    <tr>\n",
       "      <th>16</th>\n",
       "      <td>0.125</td>\n",
       "      <td>0.125</td>\n",
       "      <td>0.125</td>\n",
       "      <td>0.125</td>\n",
       "      <td>0.125</td>\n",
       "      <td>0.125</td>\n",
       "      <td>0.125</td>\n",
       "      <td>0.125</td>\n",
       "      <td>0.25</td>\n",
       "      <td>0.250</td>\n",
       "      <td>0.25</td>\n",
       "      <td>0.25</td>\n",
       "      <td>0.5000</td>\n",
       "      <td>0.1875</td>\n",
       "      <td>0.500</td>\n",
       "      <td>0.34375</td>\n",
       "      <td>1.00000</td>\n",
       "    </tr>\n",
       "  </tbody>\n",
       "</table>\n",
       "</div>"
      ],
      "text/plain": [
       "       0      1      2      3      4      5      6      7     8      9     10  \\\n",
       "0   1.000  0.000  0.000  0.000  0.000  0.000  0.000  0.000  0.50  0.000  0.00   \n",
       "1   0.000  1.000  0.000  0.000  0.000  0.000  0.000  0.000  0.00  0.500  0.00   \n",
       "2   0.000  0.000  1.000  0.000  0.000  0.000  0.000  0.000  0.00  0.500  0.00   \n",
       "3   0.000  0.000  0.000  1.000  0.000  0.000  0.000  0.000  0.00  0.000  0.50   \n",
       "4   0.000  0.000  0.000  0.000  1.000  0.000  0.000  0.000  0.00  0.000  0.00   \n",
       "5   0.000  0.000  0.000  0.000  0.000  1.000  0.000  0.000  0.50  0.000  0.00   \n",
       "6   0.000  0.000  0.000  0.000  0.000  0.000  1.000  0.000  0.00  0.000  0.50   \n",
       "7   0.000  0.000  0.000  0.000  0.000  0.000  0.000  1.000  0.00  0.000  0.00   \n",
       "8   0.500  0.000  0.000  0.000  0.000  0.500  0.000  0.000  1.00  0.000  0.00   \n",
       "9   0.000  0.500  0.500  0.000  0.000  0.000  0.000  0.000  0.00  1.000  0.00   \n",
       "10  0.000  0.000  0.000  0.500  0.000  0.000  0.500  0.000  0.00  0.000  1.00   \n",
       "11  0.000  0.000  0.000  0.000  0.500  0.000  0.000  0.500  0.00  0.000  0.00   \n",
       "12  0.250  0.250  0.250  0.000  0.000  0.250  0.000  0.000  0.50  0.500  0.00   \n",
       "13  0.000  0.000  0.500  0.250  0.000  0.000  0.250  0.000  0.00  0.250  0.50   \n",
       "14  0.000  0.000  0.000  0.250  0.250  0.000  0.250  0.250  0.00  0.000  0.50   \n",
       "15  0.125  0.125  0.375  0.125  0.000  0.125  0.125  0.000  0.25  0.375  0.25   \n",
       "16  0.125  0.125  0.125  0.125  0.125  0.125  0.125  0.125  0.25  0.250  0.25   \n",
       "\n",
       "      11      12      13     14       15       16  \n",
       "0   0.00  0.2500  0.0000  0.000  0.12500  0.12500  \n",
       "1   0.00  0.2500  0.0000  0.000  0.12500  0.12500  \n",
       "2   0.00  0.2500  0.5000  0.000  0.37500  0.12500  \n",
       "3   0.00  0.0000  0.2500  0.250  0.12500  0.12500  \n",
       "4   0.50  0.0000  0.0000  0.250  0.00000  0.12500  \n",
       "5   0.00  0.2500  0.0000  0.000  0.12500  0.12500  \n",
       "6   0.00  0.0000  0.2500  0.250  0.12500  0.12500  \n",
       "7   0.50  0.0000  0.0000  0.250  0.00000  0.12500  \n",
       "8   0.00  0.5000  0.0000  0.000  0.25000  0.25000  \n",
       "9   0.00  0.5000  0.2500  0.000  0.37500  0.25000  \n",
       "10  0.00  0.0000  0.5000  0.500  0.25000  0.25000  \n",
       "11  1.00  0.0000  0.0000  0.500  0.00000  0.25000  \n",
       "12  0.00  1.0000  0.1250  0.000  0.56250  0.50000  \n",
       "13  0.00  0.1250  1.0000  0.250  0.56250  0.18750  \n",
       "14  0.50  0.0000  0.2500  1.000  0.12500  0.50000  \n",
       "15  0.00  0.5625  0.5625  0.125  1.06250  0.34375  \n",
       "16  0.25  0.5000  0.1875  0.500  0.34375  1.00000  "
      ]
     },
     "execution_count": 91,
     "metadata": {},
     "output_type": "execute_result"
    }
   ],
   "source": [
    "pd.DataFrame(p.get_Amat(p.ped,method=\"numba\"))"
   ]
  },
  {
   "cell_type": "code",
   "execution_count": 76,
   "id": "02607fb8",
   "metadata": {},
   "outputs": [],
   "source": [
    "## compare numba,python and fortran\n",
    "p = gsim.PedigreePop()\n",
    "s,d = p.read_ped_from_file(\"simplePed2.txt\",sep=\",\")"
   ]
  },
  {
   "cell_type": "code",
   "execution_count": 55,
   "id": "cb7d9a03",
   "metadata": {},
   "outputs": [
    {
     "name": "stdout",
     "output_type": "stream",
     "text": [
      "177 µs ± 14.6 µs per loop (mean ± std. dev. of 7 runs, 10000 loops each)\n"
     ]
    }
   ],
   "source": [
    "%timeit p.get_Amat(p.ped,method=\"numba\")"
   ]
  },
  {
   "cell_type": "code",
   "execution_count": 56,
   "id": "dd740c4d",
   "metadata": {},
   "outputs": [
    {
     "name": "stdout",
     "output_type": "stream",
     "text": [
      "270 µs ± 14 µs per loop (mean ± std. dev. of 7 runs, 1000 loops each)\n"
     ]
    }
   ],
   "source": [
    "%timeit p.get_Amat(p.ped,method=\"fortran\")"
   ]
  },
  {
   "cell_type": "code",
   "execution_count": 57,
   "id": "5ad6c988",
   "metadata": {},
   "outputs": [
    {
     "name": "stdout",
     "output_type": "stream",
     "text": [
      "1.42 ms ± 33.4 µs per loop (mean ± std. dev. of 7 runs, 1000 loops each)\n"
     ]
    }
   ],
   "source": [
    "%timeit p.get_Amat(p.ped,method=\"python\")"
   ]
  },
  {
   "cell_type": "code",
   "execution_count": 87,
   "id": "9dfb872f",
   "metadata": {},
   "outputs": [
    {
     "data": {
      "text/plain": [
       "4235"
      ]
     },
     "execution_count": 87,
     "metadata": {},
     "output_type": "execute_result"
    }
   ],
   "source": [
    "## A larger example\n",
    "p1 = gsim.PedigreePop()\n",
    "s,d = p1.read_ped_from_file(\"p4004_treeped.txt\",sep=\" \")\n",
    "len(p1.ped)"
   ]
  },
  {
   "cell_type": "code",
   "execution_count": 79,
   "id": "75ce76ee",
   "metadata": {},
   "outputs": [
    {
     "data": {
      "image/png": "[encoded data removed]",
      "text/plain": [
       "<Figure size 432x288 with 2 Axes>"
      ]
     },
     "metadata": {
      "needs_background": "light"
     },
     "output_type": "display_data"
    }
   ],
   "source": [
    "visualise_Amatrix(p1.get_Amat(p1.ped,method=\"numba\"))"
   ]
  },
  {
   "cell_type": "code",
   "execution_count": 80,
   "id": "ab7ab73e",
   "metadata": {},
   "outputs": [
    {
     "name": "stdout",
     "output_type": "stream",
     "text": [
      "382 ms ± 4.8 ms per loop (mean ± std. dev. of 7 runs, 1 loop each)\n"
     ]
    }
   ],
   "source": [
    "%timeit p1.get_Amat(p1.ped,method=\"numba\")"
   ]
  },
  {
   "cell_type": "code",
   "execution_count": 81,
   "id": "b6897d3f",
   "metadata": {},
   "outputs": [
    {
     "name": "stdout",
     "output_type": "stream",
     "text": [
      "127 ms ± 1.98 ms per loop (mean ± std. dev. of 7 runs, 10 loops each)\n"
     ]
    }
   ],
   "source": [
    "%timeit p1.get_Amat(p1.ped,method=\"fortran\")"
   ]
  },
  {
   "cell_type": "code",
   "execution_count": 63,
   "id": "d409d830",
   "metadata": {},
   "outputs": [
    {
     "name": "stdout",
     "output_type": "stream",
     "text": [
      "1min 18s ± 4.38 s per loop (mean ± std. dev. of 7 runs, 1 loop each)\n"
     ]
    }
   ],
   "source": [
    "%timeit p1.get_Amat(p1.ped,method=\"python\")"
   ]
  },
  {
   "cell_type": "code",
   "execution_count": 88,
   "id": "4f005de4",
   "metadata": {},
   "outputs": [
    {
     "name": "stdout",
     "output_type": "stream",
     "text": [
      "Will reduce pedigree size of 4235 by keeping only the 2054 parents provided\n",
      "redcuded pedigree has now 2054 animals coming from 392 sires and 1029 dams\n"
     ]
    }
   ],
   "source": [
    "## Try now the core-ped to asee reductions\n",
    "coreped,s1,d1 = p1.core_ped(s.union(d))"
   ]
  },
  {
   "cell_type": "code",
   "execution_count": 85,
   "id": "3d71049a",
   "metadata": {},
   "outputs": [
    {
     "data": {
      "image/png": "[encoded data removed]",
      "text/plain": [
       "<Figure size 432x288 with 2 Axes>"
      ]
     },
     "metadata": {
      "needs_background": "light"
     },
     "output_type": "display_data"
    }
   ],
   "source": [
    "visualise_Amatrix(p1.get_Amat(coreped,method=\"numba\"))"
   ]
  }
 ],
 "metadata": {
  "kernelspec": {
   "display_name": "Python 3 (ipykernel)",
   "language": "python",
   "name": "python3"
  },
  "language_info": {
   "codemirror_mode": {
    "name": "ipython",
    "version": 3
   },
   "file_extension": ".py",
   "mimetype": "text/x-python",
   "name": "python",
   "nbconvert_exporter": "python",
   "pygments_lexer": "ipython3",
   "version": "3.7.5"
  }
 },
 "nbformat": 4,
 "nbformat_minor": 5
}

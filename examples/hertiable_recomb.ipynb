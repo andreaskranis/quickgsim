{
 "cells": [
  {
   "cell_type": "markdown",
   "id": "10627044",
   "metadata": {},
   "source": [
    "# Summary\n",
    "\n",
    "Have a Genome with heritable recombination\n",
    "\n",
    "\n"
   ]
  },
  {
   "cell_type": "code",
   "execution_count": 217,
   "id": "93c1bd5c",
   "metadata": {},
   "outputs": [
    {
     "name": "stdout",
     "output_type": "stream",
     "text": [
      "The autoreload extension is already loaded. To reload it, use:\n",
      "  %reload_ext autoreload\n"
     ]
    }
   ],
   "source": [
    "## for local developement\n",
    "%load_ext autoreload\n",
    "%autoreload 2"
   ]
  },
  {
   "cell_type": "code",
   "execution_count": 218,
   "id": "2ed5e890",
   "metadata": {},
   "outputs": [],
   "source": [
    "%matplotlib inline\n",
    "import matplotlib\n",
    "import numpy as np\n",
    "import matplotlib.pyplot as plt"
   ]
  },
  {
   "cell_type": "code",
   "execution_count": 726,
   "id": "f31a6e3d",
   "metadata": {},
   "outputs": [],
   "source": [
    "import quickgsim as gsim"
   ]
  },
  {
   "cell_type": "markdown",
   "id": "fe0a9bb1",
   "metadata": {},
   "source": [
    "## Try to run a large experiment"
   ]
  },
  {
   "cell_type": "code",
   "execution_count": 734,
   "id": "a2f18d01",
   "metadata": {},
   "outputs": [],
   "source": [
    "## Create two chromosomes, use the same instructions for all scenarios\n",
    "instructions = {1:[10000,194_000_000,4.91],2:[7000,120_000_000,3.12]}"
   ]
  },
  {
   "cell_type": "code",
   "execution_count": 735,
   "id": "b9c5ae0d",
   "metadata": {},
   "outputs": [
    {
     "name": "stdout",
     "output_type": "stream",
     "text": [
      "added 10000 variants in chromosome 1 [len in bp:194000000/morgans:4.91] equally spaced every 19401 bp, ie every 0.05 centiMorgans\n",
      "added 7000 variants in chromosome 2 [len in bp:120000000/morgans:3.12] equally spaced every 17145 bp, ie every 0.04 centiMorgans\n"
     ]
    }
   ],
   "source": [
    "# Set up the genome \n",
    "genome = gsim.equidistant_genome(instructions,rs=gsim.randomise(seed=42))\n",
    "\n",
    "# Add two traits\n",
    "recomb = gsim.genomicTrait('recomb',0.05,0.2,genome)\n",
    "recomb.assign_snps_QTLs(genome,250)\n",
    "recomb.generateQTL_effects(genome)\n",
    "\n",
    "bwt = gsim.genomicTrait('bwt',90,150,genome,mu=220)\n",
    "bwt.assign_snps_QTLs(genome,2500)\n",
    "bwt.generateQTL_effects(genome)\n"
   ]
  },
  {
   "cell_type": "code",
   "execution_count": 736,
   "id": "66d3d7bf",
   "metadata": {},
   "outputs": [
    {
     "name": "stdout",
     "output_type": "stream",
     "text": [
      "TRAIT recomb -> var_before:552.306,var_after:0.050,target:0.05 [means:32.13 -> 0.00]\n",
      "TRAIT bwt -> var_before:9096.159,var_after:90.069,target:90 [means:155.93 -> 0.01]\n"
     ]
    }
   ],
   "source": [
    "## Get the base population\n",
    "n_sires,n_dams = 100,1000\n",
    "base_sires = gsim.generate_random_animals(n_sires,1,genome,tags=range(n_sires))\n",
    "base_dams = gsim.generate_random_animals(n_dams,2,genome,tags=range(1000,1000+n_dams))\n",
    "founders = base_sires+base_dams\n",
    "\n",
    "## adjust Va\n",
    "recomb.adjust_effects_va(founders,genome)\n",
    "bwt.adjust_effects_va(founders,genome)\n",
    "\n",
    "## phenotype the founders\n",
    "for a in founders:\n",
    "    a.get_phenotype(recomb,genome,fixed_effect=0)\n",
    "    a.get_phenotype(bwt,genome,fixed_effect=0)\n"
   ]
  },
  {
   "cell_type": "code",
   "execution_count": 745,
   "id": "bace77ad",
   "metadata": {},
   "outputs": [],
   "source": [
    "def monitor_bv(trait,ans):\n",
    "    bv = np.zeros(len(ans))\n",
    "    gens = []\n",
    "    for i,an in enumerate(ans):\n",
    "        gens.append(an.genotype.as_snps()[0])\n",
    "        for chrom in trait.qtls:\n",
    "            bv[i] += sum(trait.bv_per_chrom(gens[-1],genome,chrom))\n",
    "    print(trait.name,trait.get_Va_fromBVs(bv))\n",
    "\n",
    "\n",
    "def one_gen(sires,dams,genome,gen=1,phenFile_obj=None,rs=gsim.RAN_GEN,s_to_d_ratio=10,male_fert=0.9,female_fert=0.95):\n",
    "    idx_select = lambda arr,idx : [arr[i] for i in idx]\n",
    "    min_mates = 5 ##minimum number of female mates\n",
    "    maxFS = 10    ##maximum number of FS\n",
    "    \n",
    "    gen = gen*100_000 ##this could be an issue if more than 100_000 kids per generation\n",
    "    \n",
    "    active_sires = rs.choice(len(sires),int(len(sires)*male_fert),replace=False)\n",
    "    active_dams = rs.choice(len(dams),int(len(sires)*female_fert),replace=False)\n",
    "    \n",
    "    ## generate progeny\n",
    "    boys,girls = [],[]\n",
    "    n_kids = 1\n",
    "    for s_idx in active_sires:\n",
    "        for d_idx in rs.choice(active_dams,rs.integers(min_mates,s_to_d_ratio),replace=False):\n",
    "            for k in range(rs.integers(1,maxFS)):\n",
    "                sex = rs.integers(1,3)\n",
    "                kid_tag = gen+n_kids\n",
    "                kid = gsim.mate(sires[s_idx],dams[d_idx],kid_tag,genome,kid_sex=sex,mod_len_genomes={'paternal':sires[s_idx].phens['recomb'],'maternal':dams[d_idx].phens['recomb']})    \n",
    "                n_kids +=1\n",
    "                ## phenotype the new kid\n",
    "                pc,mc = kid.get_Ncrossovers('paternal'),kid.get_Ncrossovers('maternal')\n",
    "                kid.get_phenotype(recomb,genome,fixed_effect=0)\n",
    "                kid.get_phenotype(bwt,genome,fixed_effect=0)\n",
    "\n",
    "                if sex == 1:\n",
    "                    boys.append(kid)\n",
    "                else:\n",
    "                    girls.append(kid)\n",
    "    print(f\"In total {n_kids} progeny were generated, {len(boys)} were male and {len(girls)} female\")\n",
    "    \n",
    "    ## select\n",
    "    new_sires = idx_select(boys,rs.choice(len(boys),len(sires),replace=False))\n",
    "    new_dams  = idx_select(girls,rs.choice(len(girls),len(dams),replace=False))\n",
    "    monitor_bv(recomb,new_sires+new_dams)\n",
    "    monitor_bv(bwt,new_sires+new_dams)\n",
    "    return new_sires,new_dams   \n",
    "        \n",
    "    \n",
    "\n",
    "    "
   ]
  },
  {
   "cell_type": "code",
   "execution_count": 748,
   "id": "f1519818",
   "metadata": {},
   "outputs": [
    {
     "name": "stdout",
     "output_type": "stream",
     "text": [
      ">> GEN: 1\n",
      "In total 3128 progeny were generated, 1556 were male and 1571 female\n",
      "recomb (-0.0455987268787913, 0.050881010380573244)\n",
      "bwt (-0.7310260590071028, 92.4694027257656)\n",
      "\n",
      ">> GEN: 2\n",
      "In total 3161 progeny were generated, 1582 were male and 1578 female\n",
      "recomb (-0.03835744263866916, 0.05398945974131734)\n",
      "bwt (-0.20380380927074893, 93.05097111037308)\n",
      "\n",
      ">> GEN: 3\n",
      "In total 3134 progeny were generated, 1512 were male and 1621 female\n",
      "recomb (-0.023906448893922246, 0.056248597927733304)\n",
      "bwt (-0.3831770709525835, 93.53791971123309)\n",
      "\n",
      ">> GEN: 4\n",
      "In total 3085 progeny were generated, 1546 were male and 1538 female\n",
      "recomb (-0.04042949611676625, 0.06124301583228173)\n",
      "bwt (-0.0866791149009007, 91.63142197514559)\n",
      "\n",
      ">> GEN: 5\n",
      "In total 3279 progeny were generated, 1635 were male and 1643 female\n",
      "recomb (-0.0701750089886047, 0.05683435726711988)\n",
      "bwt (0.4318649916709048, 96.13562234127333)\n",
      "\n",
      ">> GEN: 6\n",
      "In total 3141 progeny were generated, 1569 were male and 1571 female\n",
      "recomb (-0.07633208577188955, 0.056606660690269164)\n",
      "bwt (0.3687024075283955, 89.33531445009386)\n",
      "\n",
      ">> GEN: 7\n",
      "In total 3193 progeny were generated, 1601 were male and 1591 female\n",
      "recomb (-0.012892856205681579, 0.04768932928685529)\n",
      "bwt (0.08416972495551862, 100.54619471758382)\n",
      "\n",
      ">> GEN: 8\n",
      "In total 3143 progeny were generated, 1517 were male and 1625 female\n",
      "recomb (0.003780419466101985, 0.051165566769363215)\n",
      "bwt (1.3240047613819785, 96.45740516973297)\n",
      "\n",
      ">> GEN: 9\n",
      "In total 3185 progeny were generated, 1567 were male and 1617 female\n",
      "recomb (-0.00527617614306173, 0.04672567220007058)\n",
      "bwt (0.6306107533103008, 88.09773457541338)\n",
      "\n",
      ">> GEN: 10\n",
      "In total 3250 progeny were generated, 1581 were male and 1668 female\n",
      "recomb (0.009301263873176131, 0.04586071272970725)\n",
      "bwt (1.1409491873672954, 87.98301881976066)\n",
      "\n",
      ">> GEN: 11\n",
      "In total 3016 progeny were generated, 1507 were male and 1508 female\n",
      "recomb (-0.002283637437415807, 0.04391745855614194)\n",
      "bwt (-0.8472289877914031, 92.40352734540959)\n",
      "\n",
      ">> GEN: 12\n",
      "In total 3282 progeny were generated, 1649 were male and 1632 female\n",
      "recomb (-0.0060305600843686994, 0.04599745424569684)\n",
      "bwt (0.11110943523500116, 89.50913686816584)\n",
      "\n",
      ">> GEN: 13\n",
      "In total 3232 progeny were generated, 1639 were male and 1592 female\n",
      "recomb (0.0009419228907794971, 0.04495823407405791)\n",
      "bwt (0.33297639319946926, 95.41456927157476)\n",
      "\n",
      ">> GEN: 14\n",
      "In total 3239 progeny were generated, 1599 were male and 1639 female\n",
      "recomb (-0.010876043136243348, 0.04612240498196265)\n",
      "bwt (0.33907747042738307, 93.77397541291181)\n",
      "\n",
      ">> GEN: 15\n",
      "In total 3057 progeny were generated, 1508 were male and 1548 female\n",
      "recomb (-0.002112562078674777, 0.044404702798213666)\n",
      "bwt (0.2856629186040945, 101.31426038353267)\n",
      "\n",
      ">> GEN: 16\n",
      "In total 3194 progeny were generated, 1632 were male and 1561 female\n",
      "recomb (0.0036013308383087634, 0.04523923479336766)\n",
      "bwt (1.1703956504098585, 89.3247934686142)\n",
      "\n",
      ">> GEN: 17\n",
      "In total 3105 progeny were generated, 1521 were male and 1583 female\n",
      "recomb (-0.02835345397562708, 0.04322572789421092)\n",
      "bwt (1.1278624319488653, 76.28534278130519)\n",
      "\n",
      ">> GEN: 18\n",
      "In total 3146 progeny were generated, 1582 were male and 1563 female\n",
      "recomb (-0.002411663241677809, 0.05065995872301186)\n",
      "bwt (0.6000438570039955, 80.31298979427443)\n",
      "\n",
      ">> GEN: 19\n",
      "In total 3061 progeny were generated, 1557 were male and 1503 female\n",
      "recomb (-0.00043758851334326756, 0.05072462327442386)\n",
      "bwt (0.7484284198867658, 75.18067443686623)\n",
      "\n"
     ]
    }
   ],
   "source": [
    "s,d = base_sires,base_dams\n",
    "for gen in range(1,20):\n",
    "    print(f\">> GEN: {gen}\")\n",
    "    s,d = one_gen(s,d,genome,gen=gen)\n",
    "    print()\n",
    "    "
   ]
  },
  {
   "cell_type": "code",
   "execution_count": 752,
   "id": "97935e7a",
   "metadata": {},
   "outputs": [],
   "source": [
    "def plot_phens(ans,trait):\n",
    "    p = np.array([a.phens[trait] for a in ans])\n",
    "    print(p.mean(),p.var())\n",
    "    plt.hist(p)"
   ]
  },
  {
   "cell_type": "code",
   "execution_count": 755,
   "id": "4665ceb1",
   "metadata": {},
   "outputs": [
    {
     "name": "stdout",
     "output_type": "stream",
     "text": [
      "221.8107035647594 211.73504329528544\n"
     ]
    },
    {
     "data": {
      "image/png": "[encoded data removed]",
      "text/plain": [
       "<Figure size 432x288 with 1 Axes>"
      ]
     },
     "metadata": {
      "needs_background": "light"
     },
     "output_type": "display_data"
    }
   ],
   "source": [
    "plot_phens(s,'bwt')"
   ]
  },
  {
   "cell_type": "code",
   "execution_count": 771,
   "id": "f5f99b90",
   "metadata": {},
   "outputs": [],
   "source": [
    "## \n",
    "def one_gen_select(sires,dams,genome,gen=1,phenFile_obj=None,rs=gsim.RAN_GEN,s_to_d_ratio=10,male_fert=0.9,female_fert=0.95):\n",
    "    idx_select = lambda arr,idx : [arr[i] for i in idx]\n",
    "    min_mates = 5 ##minimum number of female mates\n",
    "    maxFS = 10    ##maximum number of FS\n",
    "    gen = gen*100_000 ##this could be an issue if more than 100_000 kids per generation\n",
    "    \n",
    "    active_sires_idx = rs.choice(len(sires),int(len(sires)*male_fert),replace=False)\n",
    "    active_dams_idx = rs.choice(len(dams),int(len(sires)*female_fert),replace=False)\n",
    "    \n",
    "    ## generate progeny\n",
    "    boys,girls = [],[]\n",
    "    n_kids = 1\n",
    "    for s_idx in active_sires_idx:\n",
    "        for d_idx in rs.choice(active_dams_idx,rs.integers(min_mates,s_to_d_ratio),replace=False):\n",
    "            for k in range(rs.integers(1,maxFS)):\n",
    "                sex = rs.integers(1,3)\n",
    "                kid_tag = gen+n_kids\n",
    "                kid = gsim.mate(sires[s_idx],dams[d_idx],kid_tag,genome,kid_sex=sex,mod_len_genomes={'paternal':sires[s_idx].phens['recomb'],'maternal':dams[d_idx].phens['recomb']})    \n",
    "                n_kids +=1\n",
    "                ## phenotype the new kid\n",
    "                pc,mc = kid.get_Ncrossovers('paternal'),kid.get_Ncrossovers('maternal')\n",
    "                kid.get_phenotype(recomb,genome,fixed_effect=0)\n",
    "                kid.get_phenotype(bwt,genome,fixed_effect=0)\n",
    "\n",
    "                if sex == 1:\n",
    "                    boys.append(kid)\n",
    "                else:\n",
    "                    girls.append(kid)\n",
    "    print(f\"In total {n_kids} progeny were generated, {len(boys)} were male and {len(girls)} female\")\n",
    "    \n",
    "    ## select on BWT\n",
    "    def select_on_trait(ans,trait,N_sel):\n",
    "        sel = [idx for idx,bv in sorted([[idx,a.bvs[trait]] for idx,a in enumerate(ans)],key=lambda x:x[1],reverse=True)[:N_sel]]\n",
    "        return idx_select(ans,sel)\n",
    "\n",
    "    new_sires = select_on_trait(boys,'bwt',len(sires))\n",
    "    new_dams  = select_on_trait(girls,'bwt',len(dams))\n",
    "    monitor_bv(recomb,new_sires+new_dams)\n",
    "    monitor_bv(bwt,new_sires+new_dams)\n",
    "    return new_sires,new_dams  \n"
   ]
  },
  {
   "cell_type": "code",
   "execution_count": 781,
   "id": "9d7ab47c",
   "metadata": {},
   "outputs": [
    {
     "name": "stdout",
     "output_type": "stream",
     "text": [
      "In total 3346 progeny were generated, 1675 were male and 1670 female\n",
      "recomb (-0.03733927288622159, 0.041159079468445624)\n",
      "bwt (36.94123722356724, 26.298437638628112)\n"
     ]
    }
   ],
   "source": [
    "s1,d1 = one_gen_select(s1,d1,genome,gen=20)"
   ]
  },
  {
   "cell_type": "code",
   "execution_count": 782,
   "id": "961c0541",
   "metadata": {},
   "outputs": [
    {
     "name": "stdout",
     "output_type": "stream",
     "text": [
      "266.9618614581628 159.2648841349398\n"
     ]
    },
    {
     "data": {
      "image/png": "[encoded data removed]",
      "text/plain": [
       "<Figure size 432x288 with 1 Axes>"
      ]
     },
     "metadata": {
      "needs_background": "light"
     },
     "output_type": "display_data"
    }
   ],
   "source": [
    "plot_phens(s1,'bwt')"
   ]
  },
  {
   "cell_type": "code",
   "execution_count": 780,
   "id": "6dd6da19",
   "metadata": {},
   "outputs": [
    {
     "data": {
      "text/plain": [
       "\u001b[0;31mType:\u001b[0m        list\n",
       "\u001b[0;31mString form:\u001b[0m [Animal(tag:2001930), Animal(tag:2002531), Animal(tag:2002161), Animal(tag:2000494), Animal(tag:2 <...> tag:2002281), Animal(tag:2002066), Animal(tag:2000173), Animal(tag:2000305), Animal(tag:2001696)]\n",
       "\u001b[0;31mLength:\u001b[0m      100\n",
       "\u001b[0;31mDocstring:\u001b[0m  \n",
       "Built-in mutable sequence.\n",
       "\n",
       "If no argument is given, the constructor creates a new empty list.\n",
       "The argument must be an iterable if specified.\n"
      ]
     },
     "metadata": {},
     "output_type": "display_data"
    }
   ],
   "source": [
    "s1?"
   ]
  },
  {
   "cell_type": "code",
   "execution_count": null,
   "id": "75abdf1d",
   "metadata": {},
   "outputs": [],
   "source": []
  },
  {
   "cell_type": "code",
   "execution_count": 763,
   "id": "373a744f",
   "metadata": {},
   "outputs": [
    {
     "data": {
      "text/plain": [
       "[[1902490, 20.820831156188078],\n",
       " [1902639, 19.64234729122114],\n",
       " [1902464, 17.55113907213721],\n",
       " [1901534, 17.29663694840157],\n",
       " [1900363, 15.892858170496677],\n",
       " [1902815, 14.883184302939089],\n",
       " [1902333, 14.305492967745616],\n",
       " [1901219, 12.9006794384441],\n",
       " [1900970, 12.049772702036362],\n",
       " [1902488, 12.013134934985409]]"
      ]
     },
     "execution_count": 763,
     "metadata": {},
     "output_type": "execute_result"
    }
   ],
   "source": [
    "sorted([[a.tag,a.bvs['bwt']] for a in s],key=lambda x:x[1],reverse=True)[:10]"
   ]
  },
  {
   "cell_type": "code",
   "execution_count": 767,
   "id": "c0ce58d6",
   "metadata": {},
   "outputs": [],
   "source": [
    "sel = [idx for idx,bv in sorted([[idx,a.bvs['bwt']] for idx,a in enumerate(s)],key=lambda x:x[1],reverse=True)[:10]]"
   ]
  },
  {
   "cell_type": "code",
   "execution_count": 768,
   "id": "3f259852",
   "metadata": {},
   "outputs": [
    {
     "data": {
      "text/plain": [
       "[Animal(tag:1902490),\n",
       " Animal(tag:1902639),\n",
       " Animal(tag:1902464),\n",
       " Animal(tag:1901534),\n",
       " Animal(tag:1900363),\n",
       " Animal(tag:1902815),\n",
       " Animal(tag:1902333),\n",
       " Animal(tag:1901219),\n",
       " Animal(tag:1900970),\n",
       " Animal(tag:1902488)]"
      ]
     },
     "execution_count": 768,
     "metadata": {},
     "output_type": "execute_result"
    }
   ],
   "source": [
    "idx_select(s,sel)"
   ]
  },
  {
   "cell_type": "code",
   "execution_count": null,
   "id": "194b8cec",
   "metadata": {},
   "outputs": [],
   "source": []
  },
  {
   "cell_type": "code",
   "execution_count": null,
   "id": "eaf8dce3",
   "metadata": {},
   "outputs": [],
   "source": []
  },
  {
   "cell_type": "code",
   "execution_count": null,
   "id": "c93f0abb",
   "metadata": {},
   "outputs": [],
   "source": []
  },
  {
   "cell_type": "markdown",
   "id": "9de4dde2",
   "metadata": {},
   "source": [
    "## POC"
   ]
  },
  {
   "cell_type": "code",
   "execution_count": 564,
   "id": "c352944c",
   "metadata": {},
   "outputs": [],
   "source": [
    "## Create two chromosomes, use the same instructions for all scenarios\n",
    "instructions = {1:[2000,1_000_000,2.2],2:[3000,2_000_000,3.1]}"
   ]
  },
  {
   "cell_type": "code",
   "execution_count": 646,
   "id": "6cf11e70",
   "metadata": {},
   "outputs": [
    {
     "name": "stdout",
     "output_type": "stream",
     "text": [
      "added 2000 variants in chromosome 1 [len in bp:1000000/morgans:2.2] equally spaced every 500 bp, ie every 0.11 centiMorgans\n",
      "added 3000 variants in chromosome 2 [len in bp:2000000/morgans:3.1] equally spaced every 666 bp, ie every 0.1 centiMorgans\n"
     ]
    }
   ],
   "source": [
    "# Set up the genome \n",
    "genome = gsim.equidistant_genome(instructions,rs=gsim.randomise(seed=42))\n",
    "\n",
    "# Add two traits\n",
    "recomb = gsim.genomicTrait('recomb',0.05,0.2,genome)\n",
    "recomb.assign_snps_QTLs(genome,180)\n",
    "recomb.generateQTL_effects(genome)\n",
    "\n",
    "bwt = gsim.genomicTrait('bwt',90,150,genome,mu=220)\n",
    "bwt.assign_snps_QTLs(genome,500)\n",
    "bwt.generateQTL_effects(genome)\n",
    "\n"
   ]
  },
  {
   "cell_type": "code",
   "execution_count": 647,
   "id": "21d0f4e7",
   "metadata": {},
   "outputs": [],
   "source": [
    "## Get the base population\n",
    "base_sires = gsim.generate_random_animals(80,1,genome,tags=range(80))\n",
    "base_dams = gsim.generate_random_animals(500,2,genome,tags=range(100,600))\n",
    "founders = base_sires+base_dams"
   ]
  },
  {
   "cell_type": "code",
   "execution_count": 648,
   "id": "f9fd3f7f",
   "metadata": {},
   "outputs": [
    {
     "name": "stdout",
     "output_type": "stream",
     "text": [
      "TRAIT recomb -> var_before:305.59901456766136,var_after:0.04969281580336569,target:0.05\n",
      "TRAIT bwt -> var_before:1537.6601427231658,var_after:89.97856918884494,target:90\n"
     ]
    }
   ],
   "source": [
    "recomb.adjust_effects_va(founders,genome)\n",
    "bwt.adjust_effects_va(founders,genome)"
   ]
  },
  {
   "cell_type": "code",
   "execution_count": 697,
   "id": "e7affbd5",
   "metadata": {},
   "outputs": [],
   "source": [
    "s,d = base_sires[0],base_dams[0]"
   ]
  },
  {
   "cell_type": "code",
   "execution_count": 698,
   "id": "8e1bb301",
   "metadata": {},
   "outputs": [
    {
     "name": "stdout",
     "output_type": "stream",
     "text": [
      "{'recomb': 0.5355892315570852, 'bwt': 219.0674938355628} {'recomb': -0.13496490658943533, 'bwt': -2.417366654522265}\n"
     ]
    }
   ],
   "source": [
    "s.get_phenotype(recomb,genome,fixed_effect=0)\n",
    "d.get_phenotype(recomb,genome,fixed_effect=0)\n",
    "s.get_phenotype(bwt,genome,fixed_effect=0)\n",
    "d.get_phenotype(bwt,genome,fixed_effect=0)\n",
    "\n",
    "print(s.phens,s.bvs)"
   ]
  },
  {
   "cell_type": "code",
   "execution_count": 699,
   "id": "b317e4de",
   "metadata": {},
   "outputs": [],
   "source": [
    "a = gsim.mate(s,d,1001,genome,kid_sex=1,mod_len_genomes={'paternal':s.phens['recomb'],'maternal':d.phens['recomb']})"
   ]
  },
  {
   "cell_type": "code",
   "execution_count": 700,
   "id": "8be343d1",
   "metadata": {},
   "outputs": [
    {
     "data": {
      "text/plain": [
       "({1: [[1, 0], array([2269, 4757, 6697])],\n",
       "  2: [[0, 0], array([  52,  978, 1399, 4653, 4777, 5507])]},\n",
       " 9)"
      ]
     },
     "execution_count": 700,
     "metadata": {},
     "output_type": "execute_result"
    }
   ],
   "source": [
    "a.mcr,a.get_Ncrossovers('maternal')"
   ]
  },
  {
   "cell_type": "code",
   "execution_count": 701,
   "id": "d1065f1b",
   "metadata": {},
   "outputs": [
    {
     "name": "stdout",
     "output_type": "stream",
     "text": [
      "{'recomb': 0.32518389989685004, 'bwt': 224.832233457629} {'recomb': -0.08441731985662457, 'bwt': 3.2668835096198414}\n"
     ]
    }
   ],
   "source": [
    "a.get_phenotype(recomb,genome,fixed_effect=0)\n",
    "a.get_phenotype(bwt,genome,fixed_effect=0)\n",
    "print(a.phens,a.bvs)"
   ]
  },
  {
   "cell_type": "code",
   "execution_count": 649,
   "id": "c688f88a",
   "metadata": {},
   "outputs": [],
   "source": [
    "for a in founders:\n",
    "    a.get_phenotype(recomb,genome,fixed_effect=0)\n",
    "    a.get_phenotype(bwt,genome,fixed_effect=0)\n",
    "\n",
    "    "
   ]
  },
  {
   "cell_type": "code",
   "execution_count": 545,
   "id": "e9e4535a",
   "metadata": {},
   "outputs": [
    {
     "data": {
      "text/plain": [
       "({'recomb': 0.3377983762429465, 'bwt': 200.54361172661908},\n",
       " {'recomb': -0.15976334987723745, 'bwt': -17.009266781707677})"
      ]
     },
     "execution_count": 545,
     "metadata": {},
     "output_type": "execute_result"
    }
   ],
   "source": [
    "s.phens,s.bvs"
   ]
  },
  {
   "cell_type": "code",
   "execution_count": 650,
   "id": "e4aa1c64",
   "metadata": {},
   "outputs": [
    {
     "data": {
      "text/plain": [
       "(array([  3.,  17.,  92., 109., 135., 135.,  61.,  23.,   4.,   1.]),\n",
       " array([174.18797839, 184.32728944, 194.46660048, 204.60591153,\n",
       "        214.74522258, 224.88453363, 235.02384468, 245.16315573,\n",
       "        255.30246677, 265.44177782, 275.58108887]),\n",
       " <BarContainer object of 10 artists>)"
      ]
     },
     "execution_count": 650,
     "metadata": {},
     "output_type": "execute_result"
    },
    {
     "data": {
      "image/png": "[encoded data removed]",
      "text/plain": [
       "<Figure size 432x288 with 1 Axes>"
      ]
     },
     "metadata": {
      "needs_background": "light"
     },
     "output_type": "display_data"
    }
   ],
   "source": [
    "tr = 'bwt'\n",
    "plt.hist([a.phens[tr] for a in founders])"
   ]
  },
  {
   "cell_type": "code",
   "execution_count": 651,
   "id": "760fb9aa",
   "metadata": {},
   "outputs": [
    {
     "data": {
      "text/plain": [
       "(array([  4.,  24.,  58.,  79., 131.,  96., 102.,  57.,  23.,   6.]),\n",
       " array([-26.49181679, -21.23682111, -15.98182542, -10.72682973,\n",
       "         -5.47183405,  -0.21683836,   5.03815732,  10.29315301,\n",
       "         15.54814869,  20.80314438,  26.05814006]),\n",
       " <BarContainer object of 10 artists>)"
      ]
     },
     "execution_count": 651,
     "metadata": {},
     "output_type": "execute_result"
    },
    {
     "data": {
      "image/png": "[encoded data removed]",
      "text/plain": [
       "<Figure size 432x288 with 1 Axes>"
      ]
     },
     "metadata": {
      "needs_background": "light"
     },
     "output_type": "display_data"
    }
   ],
   "source": [
    "plt.hist([a.bvs[tr] for a in founders])"
   ]
  },
  {
   "cell_type": "code",
   "execution_count": 652,
   "id": "e000d7d9",
   "metadata": {},
   "outputs": [
    {
     "data": {
      "text/plain": [
       "(89.97856918884494,\n",
       " 229.07159091378753,\n",
       " 0.3927967183966907,\n",
       " 154.50960415765175,\n",
       " -0.0018545628250670263,\n",
       " 219.68880646098762)"
      ]
     },
     "execution_count": 652,
     "metadata": {},
     "output_type": "execute_result"
    }
   ],
   "source": [
    "b,p = np.array([a.bvs[tr] for a in founders]),np.array([a.phens[tr] for a in founders])\n",
    "b.var(),p.var(),b.var()/p.var(),(p-b).var(),b.mean(),p.mean()"
   ]
  },
  {
   "cell_type": "code",
   "execution_count": null,
   "id": "29047116",
   "metadata": {},
   "outputs": [],
   "source": []
  },
  {
   "cell_type": "code",
   "execution_count": null,
   "id": "53e9a4fa",
   "metadata": {},
   "outputs": [],
   "source": []
  },
  {
   "cell_type": "code",
   "execution_count": null,
   "id": "d6ae1e94",
   "metadata": {},
   "outputs": [],
   "source": []
  },
  {
   "cell_type": "code",
   "execution_count": null,
   "id": "44f71a72",
   "metadata": {},
   "outputs": [],
   "source": []
  },
  {
   "cell_type": "code",
   "execution_count": null,
   "id": "d003ff27",
   "metadata": {},
   "outputs": [],
   "source": []
  },
  {
   "cell_type": "code",
   "execution_count": null,
   "id": "4c207964",
   "metadata": {},
   "outputs": [],
   "source": []
  },
  {
   "cell_type": "code",
   "execution_count": 286,
   "id": "5b00ec86",
   "metadata": {},
   "outputs": [],
   "source": [
    "###\n",
    "gens = []\n",
    "for s in base_sires:\n",
    "    gens.append(s.genotype.as_snps()[0])\n",
    "for d in base_dams:\n",
    "    gens.append(d.genotype.as_snps()[0])\n",
    "    \n"
   ]
  },
  {
   "cell_type": "code",
   "execution_count": null,
   "id": "b927faa9",
   "metadata": {},
   "outputs": [],
   "source": []
  },
  {
   "cell_type": "code",
   "execution_count": null,
   "id": "f9654282",
   "metadata": {},
   "outputs": [],
   "source": []
  },
  {
   "cell_type": "code",
   "execution_count": null,
   "id": "8eaaa2eb",
   "metadata": {},
   "outputs": [],
   "source": []
  },
  {
   "cell_type": "code",
   "execution_count": null,
   "id": "f5632b5d",
   "metadata": {},
   "outputs": [],
   "source": []
  },
  {
   "cell_type": "code",
   "execution_count": null,
   "id": "2655557d",
   "metadata": {},
   "outputs": [],
   "source": []
  },
  {
   "cell_type": "code",
   "execution_count": 208,
   "id": "71a320eb",
   "metadata": {},
   "outputs": [
    {
     "data": {
      "text/plain": [
       "(1.0044984210574697, 28.19570689011314)"
      ]
     },
     "execution_count": 208,
     "metadata": {},
     "output_type": "execute_result"
    }
   ],
   "source": [
    "base_sires[0].get_bv(recomb,genome),base_sires[0].get_bv(bwt,genome)"
   ]
  },
  {
   "cell_type": "code",
   "execution_count": 209,
   "id": "5625d392",
   "metadata": {},
   "outputs": [
    {
     "data": {
      "text/plain": [
       "{'recomb': 1.0044984210574697, 'bwt': 28.19570689011314}"
      ]
     },
     "execution_count": 209,
     "metadata": {},
     "output_type": "execute_result"
    }
   ],
   "source": [
    "base_sires[0].bvs"
   ]
  },
  {
   "cell_type": "code",
   "execution_count": 212,
   "id": "dc6e072d",
   "metadata": {},
   "outputs": [
    {
     "data": {
      "text/plain": [
       "(1.5531698820145905, 32.377159514334544)"
      ]
     },
     "execution_count": 212,
     "metadata": {},
     "output_type": "execute_result"
    }
   ],
   "source": [
    "base_sires[0].get_phenotype(recomb,genome),base_sires[0].get_phenotype(bwt,genome)"
   ]
  },
  {
   "cell_type": "code",
   "execution_count": 213,
   "id": "fa4f1f37",
   "metadata": {},
   "outputs": [
    {
     "data": {
      "text/plain": [
       "{'recomb': 1.5531698820145905, 'bwt': 32.377159514334544}"
      ]
     },
     "execution_count": 213,
     "metadata": {},
     "output_type": "execute_result"
    }
   ],
   "source": [
    "base_sires[0].phens"
   ]
  },
  {
   "cell_type": "code",
   "execution_count": null,
   "id": "c05b8e70",
   "metadata": {},
   "outputs": [],
   "source": []
  },
  {
   "cell_type": "code",
   "execution_count": null,
   "id": "27ca2e0f",
   "metadata": {},
   "outputs": [],
   "source": []
  },
  {
   "cell_type": "markdown",
   "id": "c756f07b",
   "metadata": {},
   "source": [
    "## Testing"
   ]
  },
  {
   "cell_type": "code",
   "execution_count": 100,
   "id": "b670bd3e",
   "metadata": {},
   "outputs": [
    {
     "name": "stdout",
     "output_type": "stream",
     "text": [
      "added 20 variants in chromosome 1 [len in bp:1000000/morgans:2.2] equally spaced every 52631 bp, ie every 11.58 centiMorgans\n",
      "added 30 variants in chromosome 2 [len in bp:2000000/morgans:3.1] equally spaced every 68965 bp, ie every 10.69 centiMorgans\n"
     ]
    }
   ],
   "source": [
    "genome = gsim.equidistant_genome(instructions,rs=gsim.randomise(seed=42))"
   ]
  },
  {
   "cell_type": "code",
   "execution_count": 101,
   "id": "75b4e0dd",
   "metadata": {},
   "outputs": [],
   "source": [
    "recomb = gsim.genomicTrait('recomb',0.2,0.80,genome,10)"
   ]
  },
  {
   "cell_type": "code",
   "execution_count": 102,
   "id": "6899ddc6",
   "metadata": {},
   "outputs": [],
   "source": [
    "recomb.assign_snps_QTLs(genome,8)"
   ]
  },
  {
   "cell_type": "code",
   "execution_count": 64,
   "id": "7d85a8da",
   "metadata": {},
   "outputs": [
    {
     "data": {
      "text/plain": [
       "{1: [2, 4, 9], 2: [7, 11, 21, 22, 23]}"
      ]
     },
     "execution_count": 64,
     "metadata": {},
     "output_type": "execute_result"
    }
   ],
   "source": [
    "recomb.qtls"
   ]
  },
  {
   "cell_type": "code",
   "execution_count": 93,
   "id": "d1a7da5a",
   "metadata": {},
   "outputs": [
    {
     "data": {
      "text/plain": [
       "Variant(chrom=1, pos=578947.3684210526, cm_pos=127.3684210526316, add_effects={})"
      ]
     },
     "execution_count": 93,
     "metadata": {},
     "output_type": "execute_result"
    }
   ],
   "source": [
    "genome.chroms[1].variants[11]"
   ]
  },
  {
   "cell_type": "code",
   "execution_count": 94,
   "id": "007ac264",
   "metadata": {},
   "outputs": [],
   "source": [
    "recomb.generateQTL_effects(genome)"
   ]
  },
  {
   "cell_type": "code",
   "execution_count": 67,
   "id": "109c8210",
   "metadata": {},
   "outputs": [
    {
     "data": {
      "text/plain": [
       "Variant(chrom=1, pos=578947.3684210526, cm_pos=127.3684210526316, add_effects={})"
      ]
     },
     "execution_count": 67,
     "metadata": {},
     "output_type": "execute_result"
    }
   ],
   "source": [
    "genome.chroms[1].variants[11]"
   ]
  },
  {
   "cell_type": "code",
   "execution_count": 291,
   "id": "27adff4b",
   "metadata": {},
   "outputs": [],
   "source": [
    "def get_bv(qtls,gens,genome,Va):\n",
    "    bv = []\n",
    "    for c in qtls:\n",
    "        bv.extend(genome.chroms[c].variants[s1].add_effects['recomb']*gens[c][s1] for s1 in qtls[c])\n",
    "        print(bv)\n",
    "    bv = np.array(bv)\n",
    "    v  = bv.var()\n",
    "\n",
    "    coef = np.sqrt(Va/v)\n",
    "    bv1 = []\n",
    "    for c in qtls:\n",
    "        for s in qtls[c]:\n",
    "            genome.chroms[c].variants[s].add_effects['recomb'] *= coef            \n",
    "            bv1.append(genome.chroms[c].variants[s].add_effects['recomb']*gens[c][s])\n",
    "        print(bv1)\n",
    "        \n",
    "    bv2 = bv*coef\n",
    "    print(bv2)\n",
    "    print(v,coef,np.array(bv1).var(),bv2.var())\n",
    "    \n",
    "    \n",
    "    "
   ]
  },
  {
   "cell_type": "code",
   "execution_count": 95,
   "id": "30400e38",
   "metadata": {},
   "outputs": [
    {
     "name": "stdout",
     "output_type": "stream",
     "text": [
      "{1: array([1, 0, 0, 2, 2, 0, 0, 0, 1, 2, 2, 1, 1, 2, 2, 2, 2, 0, 2, 0]), 2: array([0, 0, 1, 0, 0, 0, 1, 2, 1, 2, 0, 0, 0, 0, 2, 2, 1, 2, 0, 1, 2, 1,\n",
      "       0, 0, 1, 1, 0, 0, 1, 1])}\n"
     ]
    }
   ],
   "source": [
    "gens = {}\n",
    "for c in genome.chroms:\n",
    "    gens[c] = gsim.RAN_GEN.integers(0,3,size=genome.chroms[c].nvars)\n",
    "print(gens)"
   ]
  },
  {
   "cell_type": "code",
   "execution_count": 96,
   "id": "baa15e0c",
   "metadata": {},
   "outputs": [
    {
     "name": "stdout",
     "output_type": "stream",
     "text": [
      "0.003035130499118092 0.20000000000000004 0.2\n"
     ]
    }
   ],
   "source": [
    "recomb.adjust_effects_va(gens,genome)"
   ]
  },
  {
   "cell_type": "code",
   "execution_count": 97,
   "id": "c661a19e",
   "metadata": {},
   "outputs": [
    {
     "name": "stdout",
     "output_type": "stream",
     "text": [
      "Variant(chrom=1, pos=578947.3684210526, cm_pos=127.3684210526316, add_effects={})\n",
      "[0 2 0]\n"
     ]
    },
    {
     "data": {
      "text/plain": [
       "array([-0.        , -1.35120542, -0.        ])"
      ]
     },
     "execution_count": 97,
     "metadata": {},
     "output_type": "execute_result"
    }
   ],
   "source": [
    "print(genome.chroms[1].variants[11])\n",
    "print(gens[1][recomb.qtls[1]])\n",
    "recomb.bv_per_chrom(gens,genome,1)"
   ]
  },
  {
   "cell_type": "code",
   "execution_count": 413,
   "id": "31eaf635",
   "metadata": {},
   "outputs": [
    {
     "name": "stdout",
     "output_type": "stream",
     "text": [
      "[0.0049865606565159355, -0.08563877572641655, 1.341701845788911]\n",
      "[0.0049865606565159355, -0.08563877572641655, 1.341701845788911, 1.060813083544787e-05, 0.033861452562343984, -3.193780299317197e-05, 0.0, -0.002829951841237703]\n",
      "[0.0352603085502046, -0.6055575904866304, 9.487264734878464]\n",
      "[0.0352603085502046, -0.6055575904866304, 9.487264734878464, 7.501081249459304e-05, 0.23943662727660026, -0.00022583437072671913, 0.0, -0.020010781373705357]\n",
      "[ 3.52603086e-02 -6.05557590e-01  9.48726473e+00  7.50108125e-05\n",
      "  2.39436627e-01 -2.25834371e-04  0.00000000e+00 -2.00107814e-02]\n",
      "0.20000000000000004 7.071067811865475 10.000000000000002 10.000000000000002\n"
     ]
    }
   ],
   "source": [
    "Va = 10\n",
    "get_bv(recomb.qtls,gens,genome,Va)"
   ]
  },
  {
   "cell_type": "code",
   "execution_count": 20,
   "id": "bca6ccee",
   "metadata": {},
   "outputs": [
    {
     "data": {
      "text/plain": [
       "Variant(chrom=1, pos=578947.3684210526, cm_pos=127.3684210526316, add_effects={'recomb': 26.751541618165056})"
      ]
     },
     "execution_count": 20,
     "metadata": {},
     "output_type": "execute_result"
    }
   ],
   "source": [
    "genome.chroms[1].variants[11]"
   ]
  },
  {
   "cell_type": "code",
   "execution_count": 256,
   "id": "e71e0ea1",
   "metadata": {},
   "outputs": [
    {
     "name": "stdout",
     "output_type": "stream",
     "text": [
      "10.0 1.0 4.773749820403482 10.0\n"
     ]
    }
   ],
   "source": [
    "get_bv(recomb.qtls,gens,genome,Va)"
   ]
  },
  {
   "cell_type": "code",
   "execution_count": 418,
   "id": "0a476a31",
   "metadata": {},
   "outputs": [
    {
     "data": {
      "text/plain": [
       "array([1, 1, 1])"
      ]
     },
     "execution_count": 418,
     "metadata": {},
     "output_type": "execute_result"
    }
   ],
   "source": [
    "c = 1\n",
    "qidx = recomb.qtls[c]\n",
    "base_sires[0].genotype.as_snps()[0][c][qidx ]  "
   ]
  },
  {
   "cell_type": "code",
   "execution_count": 420,
   "id": "c443d71b",
   "metadata": {},
   "outputs": [
    {
     "data": {
      "text/plain": [
       "[array(0.00498656), array(-0.04281939), array(0.67085092)]"
      ]
     },
     "execution_count": 420,
     "metadata": {},
     "output_type": "execute_result"
    }
   ],
   "source": [
    "[v.get_effect('recomb') for v in genome.chroms[1].get_variants_attrs(qidx)]"
   ]
  },
  {
   "cell_type": "code",
   "execution_count": 95,
   "id": "effa838e",
   "metadata": {},
   "outputs": [
    {
     "ename": "TypeError",
     "evalue": "loop of ufunc does not support argument 0 of type Genome which has no callable sqrt method",
     "output_type": "error",
     "traceback": [
      "\u001b[0;31m---------------------------------------------------------------------------\u001b[0m",
      "\u001b[0;31mAttributeError\u001b[0m                            Traceback (most recent call last)",
      "\u001b[0;31mAttributeError\u001b[0m: 'Genome' object has no attribute 'sqrt'",
      "\nThe above exception was the direct cause of the following exception:\n",
      "\u001b[0;31mTypeError\u001b[0m                                 Traceback (most recent call last)",
      "\u001b[0;32m/var/folders/xt/vf60d1y15sx7cmxz4xt570gm0000gp/T/ipykernel_87252/2234941027.py\u001b[0m in \u001b[0;36m<module>\u001b[0;34m\u001b[0m\n\u001b[1;32m      1\u001b[0m \u001b[0;31m## Need to define a trait for recombination\u001b[0m\u001b[0;34m\u001b[0m\u001b[0;34m\u001b[0m\u001b[0;34m\u001b[0m\u001b[0m\n\u001b[0;32m----> 2\u001b[0;31m \u001b[0mrecomb\u001b[0m \u001b[0;34m=\u001b[0m \u001b[0mgsim\u001b[0m\u001b[0;34m.\u001b[0m\u001b[0mpedTrait\u001b[0m\u001b[0;34m(\u001b[0m\u001b[0;34m'recomb'\u001b[0m\u001b[0;34m,\u001b[0m\u001b[0;36m5\u001b[0m\u001b[0;34m,\u001b[0m\u001b[0;36m10\u001b[0m\u001b[0;34m,\u001b[0m\u001b[0mgenome\u001b[0m\u001b[0;34m,\u001b[0m\u001b[0;36m10\u001b[0m\u001b[0;34m)\u001b[0m\u001b[0;34m\u001b[0m\u001b[0;34m\u001b[0m\u001b[0m\n\u001b[0m",
      "\u001b[0;32m~/OneDrive - University of Edinburgh/code_projects/quickgsim/src/quickgsim/traits.py\u001b[0m in \u001b[0;36m__init__\u001b[0;34m(self, name, Va, Ve, Vd, Vi, mu, rs)\u001b[0m\n\u001b[1;32m     37\u001b[0m         \u001b[0mself\u001b[0m\u001b[0;34m.\u001b[0m\u001b[0mVd\u001b[0m \u001b[0;34m=\u001b[0m \u001b[0mVd\u001b[0m\u001b[0;34m\u001b[0m\u001b[0;34m\u001b[0m\u001b[0m\n\u001b[1;32m     38\u001b[0m         \u001b[0mself\u001b[0m\u001b[0;34m.\u001b[0m\u001b[0mVi\u001b[0m \u001b[0;34m=\u001b[0m \u001b[0mVi\u001b[0m\u001b[0;34m\u001b[0m\u001b[0;34m\u001b[0m\u001b[0m\n\u001b[0;32m---> 39\u001b[0;31m         \u001b[0mself\u001b[0m\u001b[0;34m.\u001b[0m\u001b[0mstdA\u001b[0m\u001b[0;34m,\u001b[0m\u001b[0mself\u001b[0m\u001b[0;34m.\u001b[0m\u001b[0mstdE\u001b[0m\u001b[0;34m,\u001b[0m\u001b[0mself\u001b[0m\u001b[0;34m.\u001b[0m\u001b[0mstdD\u001b[0m\u001b[0;34m,\u001b[0m\u001b[0mself\u001b[0m\u001b[0;34m.\u001b[0m\u001b[0mstdI\u001b[0m \u001b[0;34m=\u001b[0m \u001b[0mnp\u001b[0m\u001b[0;34m.\u001b[0m\u001b[0msqrt\u001b[0m\u001b[0;34m(\u001b[0m\u001b[0mVa\u001b[0m\u001b[0;34m)\u001b[0m\u001b[0;34m,\u001b[0m\u001b[0mnp\u001b[0m\u001b[0;34m.\u001b[0m\u001b[0msqrt\u001b[0m\u001b[0;34m(\u001b[0m\u001b[0mVe\u001b[0m\u001b[0;34m)\u001b[0m\u001b[0;34m,\u001b[0m\u001b[0mnp\u001b[0m\u001b[0;34m.\u001b[0m\u001b[0msqrt\u001b[0m\u001b[0;34m(\u001b[0m\u001b[0mVd\u001b[0m\u001b[0;34m)\u001b[0m\u001b[0;34m,\u001b[0m\u001b[0mnp\u001b[0m\u001b[0;34m.\u001b[0m\u001b[0msqrt\u001b[0m\u001b[0;34m(\u001b[0m\u001b[0mVi\u001b[0m\u001b[0;34m)\u001b[0m\u001b[0;34m\u001b[0m\u001b[0;34m\u001b[0m\u001b[0m\n\u001b[0m\u001b[1;32m     40\u001b[0m         \u001b[0mself\u001b[0m\u001b[0;34m.\u001b[0m\u001b[0mrs\u001b[0m \u001b[0;34m=\u001b[0m \u001b[0mrs\u001b[0m\u001b[0;34m\u001b[0m\u001b[0;34m\u001b[0m\u001b[0m\n\u001b[1;32m     41\u001b[0m         \u001b[0mself\u001b[0m\u001b[0;34m.\u001b[0m\u001b[0mh2\u001b[0m \u001b[0;34m=\u001b[0m \u001b[0mself\u001b[0m\u001b[0;34m.\u001b[0m\u001b[0m_calc_h2\u001b[0m\u001b[0;34m(\u001b[0m\u001b[0;34m)\u001b[0m\u001b[0;34m\u001b[0m\u001b[0;34m\u001b[0m\u001b[0m\n",
      "\u001b[0;31mTypeError\u001b[0m: loop of ufunc does not support argument 0 of type Genome which has no callable sqrt method"
     ]
    }
   ],
   "source": [
    "## Need to define a trait for recombination\n",
    "recomb = gsim.pedTrait('recomb',5,10,genome,10)"
   ]
  },
  {
   "cell_type": "code",
   "execution_count": null,
   "id": "fe1c2fde",
   "metadata": {},
   "outputs": [],
   "source": []
  },
  {
   "cell_type": "code",
   "execution_count": 116,
   "id": "ce66ae11",
   "metadata": {},
   "outputs": [
    {
     "name": "stdout",
     "output_type": "stream",
     "text": [
      "added 20 variants in chromosome 1 [len in bp:1000000/morgans:2.2] equally spaced every 52631 bp, ie every 11.58 centiMorgans\n",
      "added 30 variants in chromosome 2 [len in bp:2000000/morgans:3.1] equally spaced every 68965 bp, ie every 10.69 centiMorgans\n",
      "{1: array([1, 0, 2, 2, 2, 2, 1, 0, 0, 2, 2, 1, 0, 2, 2, 0, 0, 1, 1, 2]), 2: array([1, 0, 2, 2, 2, 2, 0, 2, 1, 0, 0, 1, 2, 0, 1, 0, 0, 1, 0, 0, 2, 0,\n",
      "       2, 2, 2, 1, 0, 2, 2, 0])}\n",
      "1.3571793286740796 0.2 0.2\n"
     ]
    }
   ],
   "source": [
    "\n",
    "gens = {}\n",
    "for c in genome.chroms:\n",
    "    gens[c] = gsim.RAN_GEN.integers(0,3,size=genome.chroms[c].nvars)\n",
    "print(gens)\n",
    "recomb.adjust_effects_va(gens,genome)"
   ]
  },
  {
   "cell_type": "code",
   "execution_count": 117,
   "id": "795830d8",
   "metadata": {},
   "outputs": [],
   "source": [
    "base_sires = gsim.generate_random_animals(5,1,genome,tags=range(5))\n",
    "base_dams = gsim.generate_random_animals(10,2,genome,tags=range(10,20))"
   ]
  },
  {
   "cell_type": "code",
   "execution_count": 118,
   "id": "ef4011d0",
   "metadata": {},
   "outputs": [
    {
     "name": "stdout",
     "output_type": "stream",
     "text": [
      "[-0.00609771  0.0850939  -0.01067089]\n",
      "[-4.01076675e-04  3.95561176e-01 -1.39356940e+00 -6.43185048e-06\n",
      " -0.00000000e+00]\n"
     ]
    },
    {
     "data": {
      "text/plain": [
       "-0.9300904295971318"
      ]
     },
     "execution_count": 118,
     "metadata": {},
     "output_type": "execute_result"
    }
   ],
   "source": [
    "base_sires[0].get_bv(recomb,genome)"
   ]
  },
  {
   "cell_type": "code",
   "execution_count": null,
   "id": "9828f3ec",
   "metadata": {},
   "outputs": [],
   "source": []
  },
  {
   "cell_type": "code",
   "execution_count": 31,
   "id": "661c2bb2",
   "metadata": {},
   "outputs": [],
   "source": [
    "for i in range(5):\n",
    "    bv = recomb.draw_bv()\n",
    "    phen = recomb.get_phen(bv)\n",
    "    base_sires[i].add_bv('recomb',bv)\n",
    "    base_sires[i].add_pheno('recomb',phen)"
   ]
  },
  {
   "cell_type": "code",
   "execution_count": 35,
   "id": "07502e03",
   "metadata": {},
   "outputs": [
    {
     "name": "stdout",
     "output_type": "stream",
     "text": [
      "-0.3114359231176276\n",
      "-0.6063677111897279\n",
      "0.04575693492272444\n",
      "0.9148249469510936\n",
      "-0.38152816252099664\n"
     ]
    }
   ],
   "source": [
    "for i in range(5):\n",
    "    print(base_sires[i].get_phenotype('recomb'))"
   ]
  }
 ],
 "metadata": {
  "kernelspec": {
   "display_name": "Python 3 (ipykernel)",
   "language": "python",
   "name": "python3"
  },
  "language_info": {
   "codemirror_mode": {
    "name": "ipython",
    "version": 3
   },
   "file_extension": ".py",
   "mimetype": "text/x-python",
   "name": "python",
   "nbconvert_exporter": "python",
   "pygments_lexer": "ipython3",
   "version": "3.7.5"
  }
 },
 "nbformat": 4,
 "nbformat_minor": 5
}

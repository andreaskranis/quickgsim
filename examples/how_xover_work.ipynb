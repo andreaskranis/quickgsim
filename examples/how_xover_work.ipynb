{
 "cells": [
  {
   "cell_type": "code",
   "execution_count": null,
   "id": "d828dced",
   "metadata": {},
   "outputs": [],
   "source": []
  },
  {
   "cell_type": "code",
   "execution_count": 1,
   "id": "3c74fe62",
   "metadata": {},
   "outputs": [],
   "source": [
    "## for local developement\n",
    "%load_ext autoreload\n",
    "%autoreload 2"
   ]
  },
  {
   "cell_type": "code",
   "execution_count": 2,
   "id": "efc9c88a",
   "metadata": {},
   "outputs": [],
   "source": [
    "%matplotlib inline\n",
    "import matplotlib\n",
    "import numpy as np\n",
    "import matplotlib.pyplot as plt"
   ]
  },
  {
   "cell_type": "code",
   "execution_count": 65,
   "id": "6931c9b3",
   "metadata": {},
   "outputs": [],
   "source": [
    "import quickgsim as gsim"
   ]
  },
  {
   "cell_type": "code",
   "execution_count": 61,
   "id": "4c3095f9",
   "metadata": {},
   "outputs": [],
   "source": [
    "## Create two chromosomes, use the same instructions for all scenarios\n",
    "instructions = {1:[20,1_000_000,2.1],2:[30,2_000_000,3]}"
   ]
  },
  {
   "cell_type": "code",
   "execution_count": 62,
   "id": "45d807be",
   "metadata": {},
   "outputs": [
    {
     "name": "stdout",
     "output_type": "stream",
     "text": [
      "will now add 20 variants in chromosome 1 [len in bp:1000000/morgans:2.1] equally spaced every 52631 bp, ie every 11.05 centiMorgans\n",
      " chrom 1 has 20 variants\n",
      "will now add 30 variants in chromosome 2 [len in bp:2000000/morgans:3] equally spaced every 68965 bp, ie every 10.34 centiMorgans\n",
      " chrom 2 has 30 variants\n"
     ]
    }
   ],
   "source": [
    "genome = gsim.equidistant_genome(instructions)"
   ]
  },
  {
   "cell_type": "code",
   "execution_count": 10,
   "id": "55092adf",
   "metadata": {},
   "outputs": [
    {
     "data": {
      "text/plain": [
       "Variant(chrom=1, pos=105263.15789473684, cm_pos=21.052631578947366, add_effects={})"
      ]
     },
     "execution_count": 10,
     "metadata": {},
     "output_type": "execute_result"
    }
   ],
   "source": [
    "genome.chroms[1].variants[2]"
   ]
  },
  {
   "cell_type": "code",
   "execution_count": 33,
   "id": "70de2f5a",
   "metadata": {},
   "outputs": [],
   "source": [
    "genotype =  gsim.Genotype(genome.chroms)"
   ]
  },
  {
   "cell_type": "code",
   "execution_count": 24,
   "id": "6eb878bf",
   "metadata": {},
   "outputs": [
    {
     "data": {
      "text/plain": [
       "\u001b[0;31mType:\u001b[0m        Genotype\n",
       "\u001b[0;31mString form:\u001b[0m {1: {0: [], 1: []}, 2: {0: [], 1: []}}\n",
       "\u001b[0;31mLength:\u001b[0m      2\n",
       "\u001b[0;31mFile:\u001b[0m        ~/OneDrive - University of Edinburgh/code_projects/quickgsim/src/quickgsim/genotype.py\n",
       "\u001b[0;31mDocstring:\u001b[0m   <no docstring>\n"
      ]
     },
     "metadata": {},
     "output_type": "display_data"
    }
   ],
   "source": [
    "genotype?"
   ]
  },
  {
   "cell_type": "code",
   "execution_count": null,
   "id": "959e5938",
   "metadata": {},
   "outputs": [],
   "source": []
  },
  {
   "cell_type": "code",
   "execution_count": 45,
   "id": "488f76bd",
   "metadata": {},
   "outputs": [],
   "source": [
    "males = gsim.generate_random_animals(10,1,genome)"
   ]
  },
  {
   "cell_type": "code",
   "execution_count": 46,
   "id": "66d05007",
   "metadata": {},
   "outputs": [
    {
     "data": {
      "text/plain": [
       "Animal(tag=0, sex=1, genotype={1: {0: array([1, 1, 1, 1, 0, 0, 1, 0, 1, 0, 1, 0, 1, 0, 1, 1, 1, 0, 0, 1]), 1: array([1, 0, 1, 1, 0, 0, 0, 0, 1, 1, 1, 0, 1, 1, 1, 0, 1, 1, 1, 0])}, 2: {0: array([1, 0, 0, 1, 1, 0, 1, 1, 0, 0, 0, 0, 1, 1, 0, 0, 1, 1, 1, 0, 1, 0,\n",
       "       0, 1, 0, 1, 0, 0, 1, 1]), 1: array([1, 1, 1, 0, 1, 0, 0, 0, 1, 0, 0, 0, 1, 1, 0, 1, 1, 1, 0, 0, 1, 1,\n",
       "       1, 1, 0, 1, 1, 0, 0, 1])}}, pcr=[], mcr=[])"
      ]
     },
     "execution_count": 46,
     "metadata": {},
     "output_type": "execute_result"
    }
   ],
   "source": [
    "males[0]"
   ]
  },
  {
   "cell_type": "code",
   "execution_count": 47,
   "id": "8ea7dfb6",
   "metadata": {},
   "outputs": [],
   "source": [
    "k = gsim.mate(males[0],males[1],201,genome)"
   ]
  },
  {
   "cell_type": "code",
   "execution_count": 52,
   "id": "babfcc77",
   "metadata": {},
   "outputs": [
    {
     "data": {
      "text/plain": [
       "{1: [[1, 1], array([ 5,  8, 10, 18])],\n",
       " 2: [[0, 1], array([ 2,  3, 19, 20, 22])]}"
      ]
     },
     "execution_count": 52,
     "metadata": {},
     "output_type": "execute_result"
    }
   ],
   "source": [
    "k.pcr"
   ]
  },
  {
   "cell_type": "code",
   "execution_count": 55,
   "id": "5b17c66b",
   "metadata": {},
   "outputs": [
    {
     "data": {
      "text/plain": [
       "{0: array([1, 1, 1, 1, 0, 0, 1, 0, 1, 0, 1, 0, 1, 0, 1, 1, 1, 0, 0, 1]),\n",
       " 1: array([1, 0, 1, 1, 0, 0, 0, 0, 1, 1, 1, 0, 1, 1, 1, 0, 1, 1, 1, 0])}"
      ]
     },
     "execution_count": 55,
     "metadata": {},
     "output_type": "execute_result"
    }
   ],
   "source": [
    "males[0].genotype[1]"
   ]
  },
  {
   "cell_type": "code",
   "execution_count": 58,
   "id": "35ffc09f",
   "metadata": {},
   "outputs": [
    {
     "data": {
      "text/plain": [
       "{0: array([1, 0, 1, 1, 0, 0, 1, 0, 1, 1, 1, 0, 1, 0, 1, 1, 1, 0, 1, 0]),\n",
       " 1: array([0, 1, 0, 0, 1, 0, 1, 0, 0, 1, 0, 0, 1, 0, 1, 0, 1, 0, 1, 1])}"
      ]
     },
     "execution_count": 58,
     "metadata": {},
     "output_type": "execute_result"
    }
   ],
   "source": [
    "k.genotype[1]"
   ]
  },
  {
   "cell_type": "code",
   "execution_count": null,
   "id": "4d7ecb46",
   "metadata": {},
   "outputs": [],
   "source": []
  },
  {
   "cell_type": "code",
   "execution_count": null,
   "id": "d32f2cdd",
   "metadata": {},
   "outputs": [],
   "source": []
  },
  {
   "cell_type": "code",
   "execution_count": 59,
   "id": "73cc6ead",
   "metadata": {},
   "outputs": [
    {
     "data": {
      "text/plain": [
       "55"
      ]
     },
     "execution_count": 59,
     "metadata": {},
     "output_type": "execute_result"
    }
   ],
   "source": [
    "%timeit"
   ]
  }
 ],
 "metadata": {
  "kernelspec": {
   "display_name": "Python 3 (ipykernel)",
   "language": "python",
   "name": "python3"
  },
  "language_info": {
   "codemirror_mode": {
    "name": "ipython",
    "version": 3
   },
   "file_extension": ".py",
   "mimetype": "text/x-python",
   "name": "python",
   "nbconvert_exporter": "python",
   "pygments_lexer": "ipython3",
   "version": "3.7.5"
  }
 },
 "nbformat": 4,
 "nbformat_minor": 5
}

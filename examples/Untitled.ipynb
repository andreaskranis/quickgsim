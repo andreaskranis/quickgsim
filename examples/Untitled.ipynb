{
 "cells": [
  {
   "cell_type": "code",
   "execution_count": 1,
   "id": "291aeb61",
   "metadata": {},
   "outputs": [],
   "source": [
    "import importlib\n",
    "import quickgsim as gsim"
   ]
  },
  {
   "cell_type": "code",
   "execution_count": 2,
   "id": "d8c331cf",
   "metadata": {},
   "outputs": [
    {
     "data": {
      "text/plain": [
       "<module 'quickgsim' from '/Users/andreas/OneDrive - University of Edinburgh/code_projects/quickgsim/src/quickgsim/__init__.py'>"
      ]
     },
     "execution_count": 2,
     "metadata": {},
     "output_type": "execute_result"
    }
   ],
   "source": [
    "importlib.reload(gsim)"
   ]
  },
  {
   "cell_type": "code",
   "execution_count": 3,
   "id": "f60c5fe2",
   "metadata": {},
   "outputs": [],
   "source": [
    "g = gsim.Genome(seed=None)"
   ]
  },
  {
   "cell_type": "code",
   "execution_count": 4,
   "id": "8fbe917e",
   "metadata": {},
   "outputs": [
    {
     "name": "stdout",
     "output_type": "stream",
     "text": [
      "will now add chromsome 28\n"
     ]
    }
   ],
   "source": [
    "gsim.read_snps(g,\"../examples/c28.csv\",cm_col=3)"
   ]
  },
  {
   "cell_type": "code",
   "execution_count": 5,
   "id": "534c9ae3",
   "metadata": {},
   "outputs": [
    {
     "data": {
      "text/plain": [
       "1.0000000000000002"
      ]
     },
     "execution_count": 5,
     "metadata": {},
     "output_type": "execute_result"
    }
   ],
   "source": [
    "sum(g.chroms['28'].cm_pos)"
   ]
  },
  {
   "cell_type": "code",
   "execution_count": 6,
   "id": "8bdfc673",
   "metadata": {},
   "outputs": [],
   "source": [
    "g.chroms['28'].p_to_cm()"
   ]
  },
  {
   "cell_type": "code",
   "execution_count": 7,
   "id": "4f86d1ca",
   "metadata": {},
   "outputs": [
    {
     "data": {
      "text/plain": [
       "46.6"
      ]
     },
     "execution_count": 7,
     "metadata": {},
     "output_type": "execute_result"
    }
   ],
   "source": [
    "max(g.chroms['28'].cm_pos)"
   ]
  },
  {
   "cell_type": "code",
   "execution_count": null,
   "id": "e555d74a",
   "metadata": {},
   "outputs": [],
   "source": []
  },
  {
   "cell_type": "code",
   "execution_count": 8,
   "id": "98931133",
   "metadata": {},
   "outputs": [
    {
     "data": {
      "text/plain": [
       "0.466"
      ]
     },
     "execution_count": 8,
     "metadata": {},
     "output_type": "execute_result"
    }
   ],
   "source": [
    "g.chroms['28'].morgans"
   ]
  },
  {
   "cell_type": "code",
   "execution_count": 12,
   "id": "cc61cf3b",
   "metadata": {},
   "outputs": [],
   "source": [
    "def get_elem(array,pos,typos=str,def_val=None,verbose=False):\n",
    "    \"\"\"Wraps the try/except functionality to emaulate the <dict>.get() behaviour\"\"\"\n",
    "    if pos is not None:\n",
    "        try:\n",
    "            return typos(array[pos])\n",
    "        except ValueError:\n",
    "            print(array)\n",
    "            if verbose:\n",
    "                print(f\"**WARNING: unable to convert value in position {pos} to type {typos}\")\n",
    "        except IndexError:\n",
    "            print(array)\n",
    "            if verbose:\n",
    "                print(f\"**WARNING: unable to retrieve value in position {pos} from array {array}\")\n",
    "    return def_val"
   ]
  },
  {
   "cell_type": "code",
   "execution_count": 5,
   "id": "777899cc",
   "metadata": {},
   "outputs": [
    {
     "data": {
      "text/plain": [
       "'0\\tsnp10134-scaffold1361-15149\\t0\\t0\\tA\\tG\\n'"
      ]
     },
     "execution_count": 5,
     "metadata": {},
     "output_type": "execute_result"
    }
   ],
   "source": [
    "f = open(\"ADAPTmap_genotypeTOP_20160222_full/ADAPTmap_genotypeTOP_20160222_full.bim\")\n",
    "next(f)"
   ]
  },
  {
   "cell_type": "code",
   "execution_count": 6,
   "id": "ab3db167",
   "metadata": {},
   "outputs": [
    {
     "name": "stdout",
     "output_type": "stream",
     "text": [
      "['0', 'snp10135-scaffold1361-44576', '0', '0', 'A', 'G']\n"
     ]
    }
   ],
   "source": [
    "tmp = next(f).strip().split(None)\n",
    "print(tmp)"
   ]
  },
  {
   "cell_type": "code",
   "execution_count": 7,
   "id": "49992a65",
   "metadata": {},
   "outputs": [],
   "source": [
    "snpid,chrom,cm_pos = get_elem(tmp,1), get_elem(tmp,0,verbose=True), get_elem(tmp,None,typos=float)"
   ]
  },
  {
   "cell_type": "code",
   "execution_count": 13,
   "id": "91959f58",
   "metadata": {},
   "outputs": [
    {
     "data": {
      "text/plain": [
       "'0'"
      ]
     },
     "execution_count": 13,
     "metadata": {},
     "output_type": "execute_result"
    }
   ],
   "source": [
    "get_elem(tmp,0)"
   ]
  },
  {
   "cell_type": "code",
   "execution_count": null,
   "id": "9dd44602",
   "metadata": {},
   "outputs": [],
   "source": [
    "with open(inFile) as fin:\n",
    "        if header:\n",
    "            next(fin)\n",
    "\n",
    "        for row in fin:\n",
    "            tmp = row.strip().split(sep)\n",
    "            snpid,chrom,cm_pos = get_elem(tmp,id_col), get_elem(tmp,chr_col,verbose=True), get_elem(tmp,cm_col,typos=float)\n",
    "            if chrom:\n",
    "                genome.add_variant(chrom,cm_pos)\n",
    "            \n",
    "        for chrom in genome.chroms:\n",
    "            genome.chroms[chrom].finalise_configuration()"
   ]
  },
  {
   "cell_type": "code",
   "execution_count": null,
   "id": "bfb37eae",
   "metadata": {},
   "outputs": [],
   "source": []
  },
  {
   "cell_type": "code",
   "execution_count": null,
   "id": "6bc04163",
   "metadata": {},
   "outputs": [],
   "source": []
  },
  {
   "cell_type": "code",
   "execution_count": null,
   "id": "3b3899ec",
   "metadata": {},
   "outputs": [],
   "source": []
  },
  {
   "cell_type": "code",
   "execution_count": 26,
   "id": "a1ae5582",
   "metadata": {},
   "outputs": [],
   "source": [
    "def cm_to_p(cm,d):\n",
    "    ##check https://numpy.org/doc/stable/reference/generated/numpy.diff.html\n",
    "    return np.diff(cm,prepend=0)/d\n",
    "\n",
    "def p_to_cm(cm,d):\n",
    "    cm = cm*d\n",
    "    return np.cum(c)\n",
    "    print(tmp)\n",
    "    cm[0] = tmp[0]\n",
    "    cm[1:] = np.cumsum(tmp[1:])\n",
    "    return cm"
   ]
  },
  {
   "cell_type": "code",
   "execution_count": 16,
   "id": "6eb9f17b",
   "metadata": {},
   "outputs": [],
   "source": [
    "import numpy as np\n",
    "a = np.array([2,3,6,29,50])\n",
    "d = max(a)"
   ]
  },
  {
   "cell_type": "code",
   "execution_count": 22,
   "id": "3732ceea",
   "metadata": {},
   "outputs": [
    {
     "data": {
      "text/plain": [
       "array([0.04, 0.02, 0.06, 0.46, 0.42])"
      ]
     },
     "execution_count": 22,
     "metadata": {},
     "output_type": "execute_result"
    }
   ],
   "source": [
    "cm_to_p(a,d)"
   ]
  },
  {
   "cell_type": "code",
   "execution_count": 27,
   "id": "82c6be01",
   "metadata": {},
   "outputs": [
    {
     "name": "stdout",
     "output_type": "stream",
     "text": [
      "[ 2.  1.  3. 23. 21.]\n"
     ]
    },
    {
     "data": {
      "text/plain": [
       "array([ 2.,  1.,  4., 27., 48.])"
      ]
     },
     "execution_count": 27,
     "metadata": {},
     "output_type": "execute_result"
    }
   ],
   "source": [
    "p_to_cm(np.array([0.04, 0.02, 0.06, 0.46, 0.42]),d)"
   ]
  },
  {
   "cell_type": "code",
   "execution_count": null,
   "id": "d7202978",
   "metadata": {},
   "outputs": [],
   "source": []
  },
  {
   "cell_type": "code",
   "execution_count": null,
   "id": "655e6ff5",
   "metadata": {},
   "outputs": [],
   "source": [
    "from collections import Counter\n",
    "\n",
    "m = [1,2,3,4,5]\n",
    "p = [0.04,0.02,0.06,0.46,0.42]\n",
    "\n",
    "draw = lambda x,p=None : g.rs.choice(x,1,p=p)[0]\n",
    "uni = Counter([draw(m) for i in range(10000)])\n",
    "wei = Counter([draw(m,p) for i in range(10000)])\n",
    "\n",
    "uni\n",
    "#Out[54]: Counter({3: 2004, 1: 1966, 2: 1983, 5: 2016, 4: 2031})\n",
    "\n",
    "wei\n",
    "#Out[55]: Counter({4: 4579, 5: 4139, 2: 214, 3: 648, 1: 420})\n",
    "\n",
    "## validate\n",
    "get_obs_p = lambda x: [x[k]/sum(x.values()) for k in sorted(x.keys())]\n",
    "\n",
    "get_obs_p(wei)\n",
    "#Out[59]: [0.042, 0.0214, 0.0648, 0.4579, 0.4139]\n",
    "\n",
    "get_obs_p(uni)\n",
    "#Out[61]: [0.1966, 0.1983, 0.2004, 0.2031, 0.2016]\n"
   ]
  },
  {
   "cell_type": "code",
   "execution_count": null,
   "id": "8dc9c9de",
   "metadata": {},
   "outputs": [],
   "source": []
  },
  {
   "cell_type": "code",
   "execution_count": 14,
   "id": "943f7379",
   "metadata": {},
   "outputs": [],
   "source": [
    "from collections import UserDict"
   ]
  },
  {
   "cell_type": "code",
   "execution_count": 26,
   "id": "c8494255",
   "metadata": {},
   "outputs": [],
   "source": [
    "class Genotype(UserDict):\n",
    "    \n",
    "    def __init__(self,chroms):\n",
    "        self.data = {}\n",
    "        for c in chroms:\n",
    "            self.data[c] = {0:[],1:[]}\n",
    "    \n",
    "    def iterate_chroms(self,specific_chroms=[]):\n",
    "        chroms = self.data.keys()\n",
    "        if specific_chroms:\n",
    "            chroms = (c for c in specific_chroms if self.data.get(c,None))\n",
    "        return chroms\n",
    "    \n",
    "    "
   ]
  },
  {
   "cell_type": "code",
   "execution_count": 29,
   "id": "ebfb21b7",
   "metadata": {},
   "outputs": [
    {
     "name": "stdout",
     "output_type": "stream",
     "text": [
      "{0: [], 1: []}\n"
     ]
    }
   ],
   "source": [
    "g1 = Genotype([1,2])\n",
    "for c in g1.iterate_chroms([1,3]):\n",
    "    print(g1[c])"
   ]
  },
  {
   "cell_type": "code",
   "execution_count": 25,
   "id": "2e9cfd29",
   "metadata": {},
   "outputs": [
    {
     "data": {
      "text/plain": [
       "{0: [], 1: []}"
      ]
     },
     "execution_count": 25,
     "metadata": {},
     "output_type": "execute_result"
    }
   ],
   "source": [
    "g1[1]"
   ]
  },
  {
   "cell_type": "code",
   "execution_count": 57,
   "id": "73d1f692",
   "metadata": {},
   "outputs": [],
   "source": [
    "from  dataclasses import dataclass\n",
    "from typing import Optional"
   ]
  },
  {
   "cell_type": "code",
   "execution_count": 74,
   "id": "2504b8ee",
   "metadata": {},
   "outputs": [],
   "source": [
    "@dataclass\n",
    "class A:\n",
    "    n: str\n",
    "    t: int or None\n",
    "    \n",
    "    def __repr__(self):\n",
    "        return f\"{self.n} -> {self.t}\""
   ]
  },
  {
   "cell_type": "code",
   "execution_count": 77,
   "id": "77233f54",
   "metadata": {},
   "outputs": [],
   "source": [
    "a1 = A(\"Assa\",None)"
   ]
  },
  {
   "cell_type": "code",
   "execution_count": 78,
   "id": "1e2bdad9",
   "metadata": {},
   "outputs": [
    {
     "data": {
      "text/plain": [
       "Assa -> None"
      ]
     },
     "execution_count": 78,
     "metadata": {},
     "output_type": "execute_result"
    }
   ],
   "source": [
    "a1"
   ]
  }
 ],
 "metadata": {
  "kernelspec": {
   "display_name": "Python 3",
   "language": "python",
   "name": "python3"
  },
  "language_info": {
   "codemirror_mode": {
    "name": "ipython",
    "version": 3
   },
   "file_extension": ".py",
   "mimetype": "text/x-python",
   "name": "python",
   "nbconvert_exporter": "python",
   "pygments_lexer": "ipython3",
   "version": "3.7.5"
  }
 },
 "nbformat": 4,
 "nbformat_minor": 5
}

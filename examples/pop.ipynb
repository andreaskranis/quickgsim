{
 "cells": [
  {
   "cell_type": "markdown",
   "id": "f49fb590",
   "metadata": {},
   "source": [
    "## Summary\n",
    "\n",
    "Demonstrate how to create a popualtion, attach traits and produce meaningful phenotypes"
   ]
  },
  {
   "cell_type": "code",
   "execution_count": 1,
   "id": "960dc11a",
   "metadata": {},
   "outputs": [],
   "source": [
    "## for local developement\n",
    "%load_ext autoreload\n",
    "%autoreload 2"
   ]
  },
  {
   "cell_type": "code",
   "execution_count": 2,
   "id": "7f7047fc",
   "metadata": {},
   "outputs": [],
   "source": [
    "%matplotlib inline\n",
    "import matplotlib\n",
    "import numpy as np\n",
    "import matplotlib.pyplot as plt\n",
    "import pandas as pd"
   ]
  },
  {
   "cell_type": "code",
   "execution_count": 12,
   "id": "f7cc70be",
   "metadata": {},
   "outputs": [],
   "source": [
    "import quickgsim as gsim"
   ]
  },
  {
   "cell_type": "markdown",
   "id": "e4b45cb1",
   "metadata": {},
   "source": [
    "## Validate the pedigree class"
   ]
  },
  {
   "cell_type": "code",
   "execution_count": 44,
   "id": "f85b4436",
   "metadata": {},
   "outputs": [],
   "source": [
    "ped = gsim.Pedigree()"
   ]
  },
  {
   "cell_type": "code",
   "execution_count": 45,
   "id": "6c57413f",
   "metadata": {},
   "outputs": [
    {
     "name": "stdout",
     "output_type": "stream",
     "text": [
      "Pedigree inlcudes 548 animals. In total, there are 218 sires and 318 dams and includes 34 and 54 base-sires/dams\n"
     ]
    }
   ],
   "source": [
    "lala = ped.read_ped_from_file(\"s_ped.csv\",sep=' ')"
   ]
  },
  {
   "cell_type": "code",
   "execution_count": 38,
   "id": "0dc20dd4",
   "metadata": {},
   "outputs": [],
   "source": [
    "amat = ped.get_Amat(ped.ped,method=\"numba\")"
   ]
  },
  {
   "cell_type": "code",
   "execution_count": 39,
   "id": "681edec4",
   "metadata": {},
   "outputs": [
    {
     "name": "stdout",
     "output_type": "stream",
     "text": [
      "(548, 548)\n"
     ]
    },
    {
     "data": {
      "text/plain": [
       "array([1.       , 1.       , 1.       , 1.       , 1.       , 1.       ,\n",
       "       1.       , 1.       , 1.       , 1.       , 1.       , 1.       ,\n",
       "       1.       , 1.       , 1.       , 1.       , 1.       , 1.       ,\n",
       "       1.       , 1.       , 1.       , 1.       , 1.       , 1.       ,\n",
       "       1.       , 1.       , 1.       , 1.       , 1.       , 1.       ,\n",
       "       1.       , 1.       , 1.       , 1.       , 1.       , 1.       ,\n",
       "       1.       , 1.       , 1.       , 1.       , 1.       , 1.       ,\n",
       "       1.       , 1.       , 1.       , 1.       , 1.       , 1.       ,\n",
       "       1.       , 1.       , 1.       , 1.       , 1.       , 1.       ,\n",
       "       1.       , 1.       , 1.       , 1.       , 1.       , 1.       ,\n",
       "       1.       , 1.       , 1.       , 1.       , 1.       , 1.       ,\n",
       "       1.       , 1.       , 1.       , 1.       , 1.       , 1.       ,\n",
       "       1.       , 1.       , 1.       , 1.       , 1.       , 1.       ,\n",
       "       1.       , 1.       , 1.       , 1.       , 1.       , 1.       ,\n",
       "       1.       , 1.       , 1.       , 1.       , 1.       , 1.       ,\n",
       "       1.       , 1.       , 1.       , 1.       , 1.       , 1.       ,\n",
       "       1.       , 1.       , 1.       , 1.       , 1.       , 1.       ,\n",
       "       1.       , 1.       , 1.       , 1.       , 1.       , 1.       ,\n",
       "       1.       , 1.       , 1.       , 1.       , 1.       , 1.       ,\n",
       "       1.       , 1.       , 1.       , 1.       , 1.       , 1.       ,\n",
       "       1.       , 1.       , 1.       , 1.       , 1.       , 1.       ,\n",
       "       1.       , 1.       , 1.       , 1.       , 1.       , 1.       ,\n",
       "       1.       , 1.       , 1.       , 1.       , 1.       , 1.       ,\n",
       "       1.       , 1.       , 1.       , 1.       , 1.       , 1.       ,\n",
       "       1.       , 1.       , 1.       , 1.       , 1.       , 1.       ,\n",
       "       1.       , 1.       , 1.       , 1.       , 1.       , 1.       ,\n",
       "       1.       , 1.       , 1.       , 1.       , 1.       , 1.       ,\n",
       "       1.       , 1.       , 1.       , 1.       , 1.       , 1.       ,\n",
       "       1.       , 1.       , 1.       , 1.       , 1.       , 1.       ,\n",
       "       1.       , 1.       , 1.       , 1.       , 1.       , 1.       ,\n",
       "       1.       , 1.       , 1.       , 1.       , 1.       , 1.       ,\n",
       "       1.       , 1.       , 1.       , 1.       , 1.       , 1.       ,\n",
       "       1.       , 1.       , 1.       , 1.       , 1.       , 1.       ,\n",
       "       1.       , 1.       , 1.       , 1.       , 1.       , 1.       ,\n",
       "       1.       , 1.       , 1.       , 1.       , 1.       , 1.       ,\n",
       "       1.       , 1.       , 1.       , 1.       , 1.       , 1.       ,\n",
       "       1.       , 1.       , 1.       , 1.       , 1.       , 1.       ,\n",
       "       1.       , 1.       , 1.       , 1.       , 1.03125  , 1.03125  ,\n",
       "       1.       , 1.       , 1.       , 1.       , 1.       , 1.03125  ,\n",
       "       1.       , 1.       , 1.       , 1.       , 1.       , 1.       ,\n",
       "       1.       , 1.       , 1.       , 1.       , 1.       , 1.       ,\n",
       "       1.       , 1.       , 1.       , 1.       , 1.       , 1.       ,\n",
       "       1.       , 1.       , 1.       , 1.       , 1.       , 1.       ,\n",
       "       1.       , 1.       , 1.       , 1.       , 1.       , 1.       ,\n",
       "       1.       , 1.03125  , 1.       , 1.       , 1.       , 1.       ,\n",
       "       1.       , 1.       , 1.       , 1.03125  , 1.       , 1.       ,\n",
       "       1.       , 1.03125  , 1.       , 1.       , 1.       , 1.       ,\n",
       "       1.0078125, 1.0078125, 1.0078125, 1.       , 1.       , 1.       ,\n",
       "       1.       , 1.       , 1.03125  , 1.       , 1.0078125, 1.0078125,\n",
       "       1.0078125, 1.       , 1.       , 1.       , 1.09375  , 1.       ,\n",
       "       1.       , 1.       , 1.       , 1.       , 1.       , 1.       ,\n",
       "       1.       , 1.       , 1.       , 1.       , 1.       , 1.       ,\n",
       "       1.       , 1.0078125, 1.0078125, 1.       , 1.       , 1.0078125,\n",
       "       1.0234375, 1.0234375, 1.015625 , 1.015625 , 1.0078125, 1.0234375,\n",
       "       1.0078125, 1.       , 1.015625 , 1.03125  , 1.0234375, 1.0390625,\n",
       "       1.015625 , 1.015625 , 1.       , 1.0390625, 1.       , 1.       ,\n",
       "       1.0234375, 1.015625 , 1.0097656, 1.03125  , 1.0234375, 1.03125  ,\n",
       "       1.03125  , 1.       , 1.0078125, 1.       , 1.0234375, 1.0234375,\n",
       "       1.       , 1.       , 1.       , 1.015625 , 1.0234375, 1.       ,\n",
       "       1.       , 1.       , 1.       , 1.       , 1.       , 1.0097656,\n",
       "       1.       , 1.       , 1.       , 1.       , 1.0019531, 1.0175781,\n",
       "       1.       , 1.       , 1.015625 , 1.015625 , 1.       , 1.       ,\n",
       "       1.0097656, 1.015625 , 1.0019531, 1.0117188, 1.0039062, 1.0292969,\n",
       "       1.       , 1.0078125, 1.0136719, 1.0136719, 1.0136719, 1.0292969,\n",
       "       1.0195312, 1.0234375, 1.0351562, 1.0507812, 1.0449219, 1.0205078,\n",
       "       1.0087891, 1.0205078, 1.0039062, 1.0039062, 1.0302734, 1.0244141,\n",
       "       1.0429688, 1.0429688, 1.0141602, 1.0117188, 1.019043 , 1.0332031,\n",
       "       1.       , 1.       , 1.0078125, 1.0371094, 1.0371094, 1.0205078,\n",
       "       1.0141602, 1.0151367, 1.0488281, 1.0175781, 1.0166016, 1.0429688,\n",
       "       1.0234375, 1.0371094, 1.0117188, 1.019043 , 1.019043 , 1.0151367,\n",
       "       1.0136719, 1.0141602, 1.0141602, 1.0410156, 1.019043 , 1.0083008,\n",
       "       1.0175781, 1.0351562, 1.0258789, 1.0024414, 1.0117188, 1.0151367,\n",
       "       1.0136719, 1.0117188, 1.0136719, 1.0405273, 1.0620117, 1.0253906,\n",
       "       1.0024414, 1.078125 , 1.098877 , 1.0379639, 1.0200195, 1.0264893,\n",
       "       1.0374756, 1.0374756, 1.0164795, 1.0200195, 1.0527344, 1.0527344,\n",
       "       1.0306396, 1.0603027, 1.0164795, 1.0559082, 1.0463867, 1.0184326,\n",
       "       1.0603027, 1.0374756, 1.0317383, 1.0136719, 1.0695801, 1.0200195,\n",
       "       1.052002 , 1.0168457, 1.0307617, 1.0257568, 1.0146484, 1.0146484,\n",
       "       1.0527344, 1.0527344, 1.052002 , 1.0195312, 1.0384521, 1.0805664,\n",
       "       1.0524902, 1.0281982, 1.0281982, 1.0378418, 1.052002 , 1.0133057,\n",
       "       1.015625 , 1.0378418, 1.0378418, 1.0229492, 1.0424194, 1.0532837,\n",
       "       1.0227051, 1.020752 , 1.037262 , 1.0332336, 1.0307312, 1.020752 ,\n",
       "       1.0299988, 1.0531311, 1.0336914, 1.0336914, 1.0336914, 1.0236816,\n",
       "       1.0235901, 1.0155029, 1.0194092, 1.0275269, 1.0726929, 1.0462646,\n",
       "       1.0223999, 1.0423279, 1.0235901, 1.0322876, 1.0231323, 1.0155029,\n",
       "       1.0524902, 1.0201416, 1.0253296, 1.039093 , 1.0636444, 1.05439  ,\n",
       "       1.0208206, 1.0474701, 1.0441055, 1.0463791, 1.0252533, 1.0238724,\n",
       "       1.0428238, 1.0289078, 1.0280609, 1.0245438, 1.0447617, 1.0474701,\n",
       "       1.0914078, 1.0267715, 1.0452652, 1.0223312, 1.0398712, 1.0428238,\n",
       "       1.0364227, 1.1463013, 1.0234699, 1.0318642, 1.0542927, 1.0348034,\n",
       "       1.037983 , 1.1640167, 1.0373535, 1.0440121, 1.0546646, 1.0400276,\n",
       "       1.0652981, 1.0374165], dtype=float32)"
      ]
     },
     "execution_count": 39,
     "metadata": {},
     "output_type": "execute_result"
    }
   ],
   "source": [
    "print(amat.shape)\n",
    "amat.diagonal()"
   ]
  },
  {
   "cell_type": "code",
   "execution_count": 41,
   "id": "75beca5a",
   "metadata": {},
   "outputs": [],
   "source": [
    "with open(\"diag_fromPython\",'w') as fout:\n",
    "    for d in amat.diagonal():\n",
    "        fout.write(f\"{d}\\n\")"
   ]
  },
  {
   "cell_type": "code",
   "execution_count": 47,
   "id": "5e46efb2",
   "metadata": {},
   "outputs": [
    {
     "name": "stdout",
     "output_type": "stream",
     "text": [
      "Will reduce pedigree size of 548 by keeping only the 537 parents provided\n",
      "redcuded pedigree has now 536 animals coming from 208 sires and 308 dams\n"
     ]
    }
   ],
   "source": [
    "s,d = [ped.ped[a][0] for a in ped.ped],[ped.ped[a][1] for a in ped.ped]\n",
    "cp = ped.core_ped(set(s+d))"
   ]
  },
  {
   "cell_type": "code",
   "execution_count": null,
   "id": "6e44f1ed",
   "metadata": {},
   "outputs": [],
   "source": []
  },
  {
   "cell_type": "code",
   "execution_count": null,
   "id": "e00ab229",
   "metadata": {},
   "outputs": [],
   "source": []
  },
  {
   "cell_type": "code",
   "execution_count": 54,
   "id": "4a1f5613",
   "metadata": {},
   "outputs": [
    {
     "data": {
      "text/plain": [
       "4004265772529"
      ]
     },
     "execution_count": 54,
     "metadata": {},
     "output_type": "execute_result"
    }
   ],
   "source": [
    "list(cp[0].keys())[-1]"
   ]
  },
  {
   "cell_type": "code",
   "execution_count": null,
   "id": "0f51ac5a",
   "metadata": {},
   "outputs": [],
   "source": []
  },
  {
   "cell_type": "code",
   "execution_count": 2,
   "id": "b97eb094",
   "metadata": {},
   "outputs": [
    {
     "name": "stdout",
     "output_type": "stream",
     "text": [
      "added 58 variants in chromosome 2 [len in bp:154400000/morgans:3.124] equally spaced every 2708771 bp, ie every 5.48 centiMorgans\n",
      "added 50 variants in chromosome 3 [len in bp:113600000/morgans:2.687] equally spaced every 2318367 bp, ie every 5.48 centiMorgans\n",
      "added 38 variants in chromosome 4 [len in bp:94000000/morgans:2.024] equally spaced every 2540540 bp, ie every 5.47 centiMorgans\n"
     ]
    }
   ],
   "source": [
    "## in this example, the genotypes are not important, so use equidistant genome for chrom 2,3,4 from Groenen et al 2009\n",
    "#instructions = {2:[5870,154_400_000,3.124],3:[5010,113_600_000,2.687],4:[3800,94_000_000,2.024]}\n",
    "instructions = {2:[58,154_400_000,3.124],3:[50,113_600_000,2.687],4:[38,94_000_000,2.024]}\n",
    "genome = gsim.equidistant_genome(instructions)"
   ]
  },
  {
   "cell_type": "code",
   "execution_count": 3,
   "id": "c984b05e",
   "metadata": {},
   "outputs": [
    {
     "name": "stdout",
     "output_type": "stream",
     "text": [
      "bwt 0.472007722007722 260\n"
     ]
    }
   ],
   "source": [
    "## use AReml estimates\n",
    "bwt = gsim.pedTrait('bwt',97.8,190.4,mu=260)\n",
    "print(bwt.name,bwt.h2,bwt.mu)"
   ]
  },
  {
   "cell_type": "code",
   "execution_count": 53,
   "id": "1fa31617",
   "metadata": {},
   "outputs": [
    {
     "data": {
      "text/plain": [
       "(array([  28.,  217.,  722., 1634., 2312., 1905.,  850.,  275.,   53.,\n",
       "           4.]),\n",
       " array([210.93720358, 221.58929201, 232.24138044, 242.89346886,\n",
       "        253.54555729, 264.19764572, 274.84973414, 285.50182257,\n",
       "        296.153911  , 306.80599942, 317.45808785]),\n",
       " <BarContainer object of 10 artists>)"
      ]
     },
     "execution_count": 53,
     "metadata": {},
     "output_type": "execute_result"
    },
    {
     "data": {
      "image/png": "[encoded data removed]",
      "text/plain": [
       "<Figure size 432x288 with 1 Axes>"
      ]
     },
     "metadata": {
      "needs_background": "light"
     },
     "output_type": "display_data"
    }
   ],
   "source": [
    "## I provide the actual mu as a fixed effect to make them look like actual BWT\n",
    "plt.hist([bwt.get_phen(bwt.draw_bv(),fixed=0) for i in range(8000)])"
   ]
  },
  {
   "cell_type": "code",
   "execution_count": 54,
   "id": "0217cf99",
   "metadata": {},
   "outputs": [
    {
     "data": {
      "text/plain": [
       "(array([4.000e+00, 8.800e+01, 5.240e+02, 1.630e+03, 2.583e+03, 2.093e+03,\n",
       "        8.740e+02, 1.840e+02, 1.800e+01, 2.000e+00]),\n",
       " array([-39.15946672, -30.81103804, -22.46260936, -14.11418067,\n",
       "         -5.76575199,   2.58267669,  10.93110538,  19.27953406,\n",
       "         27.62796274,  35.97639142,  44.32482011]),\n",
       " <BarContainer object of 10 artists>)"
      ]
     },
     "execution_count": 54,
     "metadata": {},
     "output_type": "execute_result"
    },
    {
     "data": {
      "image/png": "[encoded data removed]",
      "text/plain": [
       "<Figure size 432x288 with 1 Axes>"
      ]
     },
     "metadata": {
      "needs_background": "light"
     },
     "output_type": "display_data"
    }
   ],
   "source": [
    "## however, the BVs have a mean of 0 as expected\n",
    "plt.hist([bwt.draw_bv() for i in range(8000)])"
   ]
  },
  {
   "cell_type": "markdown",
   "id": "e2f6c65c",
   "metadata": {},
   "source": [
    "### Setup the popualtion\n",
    "\n",
    "I will setup a population using real pedigree and drop the pedigee"
   ]
  },
  {
   "cell_type": "code",
   "execution_count": 4,
   "id": "215c7624",
   "metadata": {},
   "outputs": [],
   "source": [
    "## First, get the pedigree using s1 scenario from /mnt/Pella/Processing/projects/GenForces/scenarios_quickgsim/s1/simulated/\n",
    "ped = gsim.Pedigree()"
   ]
  },
  {
   "cell_type": "code",
   "execution_count": 5,
   "id": "9a7539c1",
   "metadata": {},
   "outputs": [
    {
     "name": "stdout",
     "output_type": "stream",
     "text": [
      "Pedigree inlcudes 40435 animals. In total, there are 582 sires and 3801 dams and includes 208 and 1846 base-sires/dams\n"
     ]
    }
   ],
   "source": [
    "sires,dams,basesires,basedams = ped.read_ped_from_file(\"ped_vce.txt\",sep=\" \")"
   ]
  },
  {
   "cell_type": "code",
   "execution_count": 70,
   "id": "0f9ff778",
   "metadata": {},
   "outputs": [],
   "source": [
    "###BEWARE: fortran and numba are not returning the same inbreeidng. This is wrong. in additon the inbreeding seems low in borth cases \n",
    "\n",
    "fs = ped.get_inbreeding(ped.get_Amat(ped.ped,method=\"numba\"))"
   ]
  },
  {
   "cell_type": "code",
   "execution_count": 71,
   "id": "9aa43162",
   "metadata": {},
   "outputs": [
    {
     "data": {
      "text/plain": [
       "(array([3.6395e+04, 2.8900e+03, 3.2200e+02, 2.9000e+01, 4.3400e+02,\n",
       "        2.4200e+02, 6.0000e+01, 7.0000e+00, 0.0000e+00, 5.6000e+01]),\n",
       " array([1.       , 1.0253906, 1.0507812, 1.0761719, 1.1015625, 1.1269531,\n",
       "        1.1523438, 1.1777344, 1.203125 , 1.2285156, 1.2539062],\n",
       "       dtype=float32),\n",
       " <BarContainer object of 10 artists>)"
      ]
     },
     "execution_count": 71,
     "metadata": {},
     "output_type": "execute_result"
    },
    {
     "data": {
      "image/png": "[encoded data removed]",
      "text/plain": [
       "<Figure size 432x288 with 1 Axes>"
      ]
     },
     "metadata": {
      "needs_background": "light"
     },
     "output_type": "display_data"
    }
   ],
   "source": [
    "plt.hist(fs) ##numba"
   ]
  },
  {
   "cell_type": "code",
   "execution_count": 69,
   "id": "a7fccf9f",
   "metadata": {},
   "outputs": [
    {
     "data": {
      "text/plain": [
       "(array([3.7243e+04, 2.0520e+03, 2.6200e+02, 4.0000e+00, 7.1300e+02,\n",
       "        8.4000e+01, 1.3000e+01, 0.0000e+00, 6.3000e+01, 1.0000e+00]),\n",
       " array([1.     , 1.03125, 1.0625 , 1.09375, 1.125  , 1.15625, 1.1875 ,\n",
       "        1.21875, 1.25   , 1.28125, 1.3125 ], dtype=float32),\n",
       " <BarContainer object of 10 artists>)"
      ]
     },
     "execution_count": 69,
     "metadata": {},
     "output_type": "execute_result"
    },
    {
     "data": {
      "image/png": "[encoded data removed]",
      "text/plain": [
       "<Figure size 432x288 with 1 Axes>"
      ]
     },
     "metadata": {
      "needs_background": "light"
     },
     "output_type": "display_data"
    }
   ],
   "source": [
    "plt.hist(fs) ##fortran"
   ]
  },
  {
   "cell_type": "code",
   "execution_count": 6,
   "id": "21b9c491",
   "metadata": {},
   "outputs": [],
   "source": [
    "## get the inbreeding\n",
    "inbreeding = { tag:inbreed for tag,inbreed in zip(ped.ped.keys(),ped.get_inbreeding(ped.get_Amat(ped.ped,method=\"numba\"))) }"
   ]
  },
  {
   "cell_type": "code",
   "execution_count": 12,
   "id": "86c418f3",
   "metadata": {},
   "outputs": [],
   "source": [
    "## Now init the popualtion\n",
    "pop = gsim.Pop(bwt)"
   ]
  },
  {
   "cell_type": "code",
   "execution_count": 13,
   "id": "036811ce",
   "metadata": {},
   "outputs": [],
   "source": [
    "## this allows me to register the base parents wtiout create two new big arrays in the memory \n",
    "def random_founders(pop,base_parents,sex,genome):\n",
    "    for ptag in base_parents:\n",
    "        pop.register_animals(gsim.generate_random_animals(1,sex,genome,tags=[ptag]))"
   ]
  },
  {
   "cell_type": "code",
   "execution_count": 14,
   "id": "8a796ffa",
   "metadata": {},
   "outputs": [],
   "source": [
    "## initialise the founders\n",
    "random_founders(pop,basesires,1,genome)\n",
    "random_founders(pop,basedams,2,genome)\n"
   ]
  },
  {
   "cell_type": "code",
   "execution_count": 16,
   "id": "7fbbc4ec",
   "metadata": {},
   "outputs": [
    {
     "name": "stderr",
     "output_type": "stream",
     "text": [
      "100%|████████████████████████████████████████████████████████████████████████████████████████████| 40435/40435 [00:27<00:00, 1474.17it/s]\n"
     ]
    }
   ],
   "source": [
    "### now generate the animals\n",
    "for a,(s,d) in gsim.tqdm.tqdm(ped.ped.items()):\n",
    "    if s and d:\n",
    "        sex = None\n",
    "        if a in sires:\n",
    "            sex = 1\n",
    "        if a in dams:\n",
    "            sex = 2\n",
    "        pop.produce_newAnimal(pop.animals[s],pop.animals[d],a,genome,kid_sex=sex,mod_len_genomes={'paternal':0.3,'maternal':0},progeny_inbreeding=0)\n",
    "        "
   ]
  },
  {
   "cell_type": "code",
   "execution_count": 24,
   "id": "4fd4159b",
   "metadata": {},
   "outputs": [],
   "source": [
    "### for the animals in the population, output the phenotypes\n",
    "with open(\"phens_out.txt\",\"w\") as fout:\n",
    "    for a in pop.animals:\n",
    "        fout.write(f\"{a} {ped.ped[a][0]} {ped.ped[a][1]} {round(pop.animals[a].phens.get('bwt',0),3)}\\n\")"
   ]
  },
  {
   "cell_type": "code",
   "execution_count": 18,
   "id": "d4acc778",
   "metadata": {},
   "outputs": [
    {
     "data": {
      "text/plain": [
       "Animal(tag=4064189721394, sex=2, genotype={2: {0: array([0, 1, 1, 1, 1, 1, 1, 1, 0, 0, 1, 1, 0, 1, 1, 0, 1, 1, 1, 0, 0, 0,\n",
       "       0, 0, 0, 1, 1, 0, 1, 1, 0, 1, 1, 1, 0, 0, 0, 0, 1, 0, 1, 1, 0, 0,\n",
       "       0, 1, 1, 0, 0, 0, 1, 0, 1, 1, 1, 0, 1, 0]), 1: array([0, 0, 0, 1, 1, 1, 1, 0, 0, 0, 0, 0, 1, 1, 0, 0, 1, 1, 0, 0, 1, 1,\n",
       "       1, 1, 0, 1, 1, 1, 1, 0, 1, 0, 0, 1, 1, 1, 1, 0, 0, 0, 1, 0, 1, 0,\n",
       "       1, 1, 0, 1, 1, 1, 1, 0, 0, 1, 1, 0, 1, 0])}, 3: {0: array([0, 0, 1, 1, 1, 1, 1, 0, 0, 0, 0, 1, 0, 0, 0, 0, 0, 0, 0, 1, 0, 0,\n",
       "       1, 0, 0, 1, 1, 1, 1, 1, 1, 1, 1, 1, 1, 1, 0, 0, 1, 0, 0, 0, 1, 0,\n",
       "       0, 0, 0, 1, 0, 0]), 1: array([1, 1, 1, 0, 0, 0, 0, 1, 1, 1, 1, 0, 0, 0, 1, 1, 0, 1, 1, 1, 0, 0,\n",
       "       0, 0, 0, 1, 1, 0, 0, 0, 1, 1, 1, 1, 0, 1, 1, 1, 0, 0, 0, 1, 1, 1,\n",
       "       0, 1, 0, 0, 1, 0])}, 4: {0: array([0, 1, 1, 0, 0, 1, 1, 1, 1, 0, 1, 1, 1, 1, 1, 1, 1, 1, 0, 0, 1, 0,\n",
       "       0, 0, 1, 0, 0, 0, 0, 0, 1, 0, 0, 1, 0, 0, 1, 1]), 1: array([1, 1, 0, 1, 1, 1, 1, 0, 0, 1, 1, 1, 1, 0, 0, 1, 1, 0, 0, 0, 0, 1,\n",
       "       0, 0, 0, 1, 0, 1, 1, 0, 1, 1, 1, 0, 1, 0, 1, 1])}}, pcr={2: [[0, 0], array([22, 56])], 3: [[0, 1], array([13])], 4: [[1, 0], array([4])]}, mcr={2: [[1, 0], array([15, 21, 53])], 3: [[1, 1], array([ 1, 18, 28, 34])], 4: [[0, 1], array([20])]}, phens={'bwt': 250.4471213357694}, bvs={'bwt': -5.042238691887081}, f=0)"
      ]
     },
     "execution_count": 18,
     "metadata": {},
     "output_type": "execute_result"
    }
   ],
   "source": [
    "pop.animals[4064189721394]"
   ]
  },
  {
   "cell_type": "code",
   "execution_count": null,
   "id": "6d2aedde",
   "metadata": {},
   "outputs": [],
   "source": []
  },
  {
   "cell_type": "code",
   "execution_count": null,
   "id": "3fdbf33e",
   "metadata": {},
   "outputs": [],
   "source": []
  },
  {
   "cell_type": "code",
   "execution_count": null,
   "id": "325d2f79",
   "metadata": {},
   "outputs": [],
   "source": []
  },
  {
   "cell_type": "code",
   "execution_count": 100,
   "id": "afd4fffb",
   "metadata": {},
   "outputs": [],
   "source": [
    "a = pop.produce_newAnimal(pop.animals[3869133161426],pop.animals[3869130921519],3914169151761,genome,kid_sex=None,mod_len_genomes={'paternal':0.3,'maternal':0},progeny_inbreeding=0)"
   ]
  },
  {
   "cell_type": "code",
   "execution_count": 104,
   "id": "8cbfa085",
   "metadata": {},
   "outputs": [
    {
     "data": {
      "text/plain": [
       "Animal(tag=3914169151761, sex=2, genotype={2: {0: array([0, 1, 0, ..., 0, 0, 0]), 1: array([1, 1, 0, ..., 0, 1, 1])}, 3: {0: array([0, 1, 1, ..., 1, 0, 0]), 1: array([0, 0, 1, ..., 1, 1, 0])}, 4: {0: array([0, 1, 1, ..., 0, 0, 1]), 1: array([1, 1, 1, ..., 1, 0, 1])}}, pcr={2: [[0, 1], array([5522])], 3: [[1, 0], array([1306])], 4: [[1, 1], array([ 907, 2516, 2635, 2846])]}, mcr={2: [[1, 1], array([1855, 2308, 3454, 4056])], 3: [[1, 0], array([3141])], 4: [[1, 0], array([577])]}, phens={'bwt': 264.53034092278693}, bvs={'bwt': 4.292820589752793}, f=0)"
      ]
     },
     "execution_count": 104,
     "metadata": {},
     "output_type": "execute_result"
    }
   ],
   "source": [
    "pop.animals[3914169151761]"
   ]
  },
  {
   "cell_type": "code",
   "execution_count": null,
   "id": "bfcc54b6",
   "metadata": {},
   "outputs": [],
   "source": []
  },
  {
   "cell_type": "code",
   "execution_count": 75,
   "id": "7291c44d",
   "metadata": {},
   "outputs": [
    {
     "data": {
      "text/plain": [
       "1.0039062"
      ]
     },
     "execution_count": 75,
     "metadata": {},
     "output_type": "execute_result"
    }
   ],
   "source": [
    "inbreeding[4064189711655]"
   ]
  },
  {
   "cell_type": "code",
   "execution_count": null,
   "id": "bff41a77",
   "metadata": {},
   "outputs": [],
   "source": [
    "def drop_pedigree(pop,genome,ped,store_backend=None):\n",
    "    for kid,sire,dam,sex in tqdm.tqdm(ped):\n",
    "        progeny = mate(pop[sire],pop[dam],kid,genome,sex)\n",
    "        pop[kid] = progeny\n",
    "        if store_backend:\n",
    "            store_backend.store_animal(kid,sire,dam,sex,progeny)"
   ]
  },
  {
   "cell_type": "code",
   "execution_count": 19,
   "id": "5c3a1434",
   "metadata": {},
   "outputs": [],
   "source": [
    "m = gsim.generate_random_animals(1,1,genome,tags=[basesires[0]])"
   ]
  },
  {
   "cell_type": "code",
   "execution_count": 20,
   "id": "db68493d",
   "metadata": {},
   "outputs": [
    {
     "data": {
      "text/plain": [
       "Animal(tag=3869133161426, sex=1, genotype={2: {0: array([1, 1, 0, ..., 1, 0, 1]), 1: array([0, 0, 0, ..., 1, 0, 0])}, 3: {0: array([1, 1, 0, ..., 0, 1, 0]), 1: array([0, 0, 0, ..., 1, 0, 1])}, 4: {0: array([1, 0, 1, ..., 0, 0, 1]), 1: array([0, 0, 0, ..., 1, 0, 0])}}, pcr=[], mcr=[], phens={}, bvs={}, f=0.0)"
      ]
     },
     "execution_count": 20,
     "metadata": {},
     "output_type": "execute_result"
    }
   ],
   "source": [
    "m[0]"
   ]
  },
  {
   "cell_type": "code",
   "execution_count": 32,
   "id": "df504816",
   "metadata": {},
   "outputs": [],
   "source": [
    "females = gsim.generate_random_animals(10,2,genome)"
   ]
  },
  {
   "cell_type": "code",
   "execution_count": 105,
   "id": "c0ea08bd",
   "metadata": {},
   "outputs": [
    {
     "name": "stdout",
     "output_type": "stream",
     "text": [
      "1.1 ms ± 55.1 µs per loop (mean ± std. dev. of 7 runs, 1000 loops each)\n"
     ]
    }
   ],
   "source": [
    "%timeit gsim.mate(males[0],females[0],\"34\",genome)"
   ]
  }
 ],
 "metadata": {
  "kernelspec": {
   "display_name": "Python 3 (ipykernel)",
   "language": "python",
   "name": "python3"
  },
  "language_info": {
   "codemirror_mode": {
    "name": "ipython",
    "version": 3
   },
   "file_extension": ".py",
   "mimetype": "text/x-python",
   "name": "python",
   "nbconvert_exporter": "python",
   "pygments_lexer": "ipython3",
   "version": "3.7.5"
  }
 },
 "nbformat": 4,
 "nbformat_minor": 5
}
